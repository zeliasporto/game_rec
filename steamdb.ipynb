{
  "nbformat": 4,
  "nbformat_minor": 0,
  "metadata": {
    "colab": {
      "provenance": [],
      "authorship_tag": "ABX9TyNVWF0/CPqHB9Xvzzb6zm3b",
      "include_colab_link": true
    },
    "kernelspec": {
      "name": "python3",
      "display_name": "Python 3"
    },
    "language_info": {
      "name": "python"
    }
  },
  "cells": [
    {
      "cell_type": "markdown",
      "metadata": {
        "id": "view-in-github",
        "colab_type": "text"
      },
      "source": [
        "<a href=\"https://colab.research.google.com/github/zeliasporto/game_rec/blob/main/steamdb.ipynb\" target=\"_parent\"><img src=\"https://colab.research.google.com/assets/colab-badge.svg\" alt=\"Open In Colab\"/></a>"
      ]
    },
    {
      "cell_type": "code",
      "execution_count": null,
      "metadata": {
        "colab": {
          "base_uri": "https://localhost:8080/"
        },
        "id": "rZTbqzvsytbt",
        "outputId": "87924d48-8de2-4415-cce7-35555a79602e"
      },
      "outputs": [
        {
          "output_type": "stream",
          "name": "stdout",
          "text": [
            "Requirement already satisfied: requests in /usr/local/lib/python3.11/dist-packages (2.32.3)\n",
            "Requirement already satisfied: pandas in /usr/local/lib/python3.11/dist-packages (2.2.2)\n",
            "Requirement already satisfied: tqdm in /usr/local/lib/python3.11/dist-packages (4.67.1)\n",
            "Requirement already satisfied: charset-normalizer<4,>=2 in /usr/local/lib/python3.11/dist-packages (from requests) (3.4.2)\n",
            "Requirement already satisfied: idna<4,>=2.5 in /usr/local/lib/python3.11/dist-packages (from requests) (3.10)\n",
            "Requirement already satisfied: urllib3<3,>=1.21.1 in /usr/local/lib/python3.11/dist-packages (from requests) (2.4.0)\n",
            "Requirement already satisfied: certifi>=2017.4.17 in /usr/local/lib/python3.11/dist-packages (from requests) (2025.6.15)\n",
            "Requirement already satisfied: numpy>=1.23.2 in /usr/local/lib/python3.11/dist-packages (from pandas) (2.0.2)\n",
            "Requirement already satisfied: python-dateutil>=2.8.2 in /usr/local/lib/python3.11/dist-packages (from pandas) (2.9.0.post0)\n",
            "Requirement already satisfied: pytz>=2020.1 in /usr/local/lib/python3.11/dist-packages (from pandas) (2025.2)\n",
            "Requirement already satisfied: tzdata>=2022.7 in /usr/local/lib/python3.11/dist-packages (from pandas) (2025.2)\n",
            "Requirement already satisfied: six>=1.5 in /usr/local/lib/python3.11/dist-packages (from python-dateutil>=2.8.2->pandas) (1.17.0)\n"
          ]
        }
      ],
      "source": [
        "!pip install requests pandas tqdm"
      ]
    },
    {
      "cell_type": "code",
      "source": [
        "import requests\n",
        "import pandas as pd\n",
        "from tqdm import tqdm\n",
        "import time\n",
        "\n",
        "# 1. Obter todos os appids\n",
        "print(\"Baixando lista de appids...\")\n",
        "applist_url = \"https://api.steampowered.com/ISteamApps/GetAppList/v2/\"\n",
        "response = requests.get(applist_url)\n",
        "apps = response.json()['applist']['apps']\n",
        "\n",
        "# 2. Prepara a coleta dos dados\n",
        "dados = []\n",
        "\n",
        "print(\"Coletando dados dos jogos...\")\n",
        "\n",
        "# 3. Iterar sobre os appids com barra de progresso\n",
        "for app in tqdm(apps):\n",
        "    appid = app['appid']\n",
        "    name = app['name']\n",
        "\n",
        "    if not name.strip():\n",
        "        continue  # pular apps sem nome\n",
        "\n",
        "    details_url = f\"https://store.steampowered.com/api/appdetails?appids={appid}\"\n",
        "    try:\n",
        "        r = requests.get(details_url, timeout=5)\n",
        "        r.raise_for_status()\n",
        "        data = r.json()\n",
        "\n",
        "        if not data.get(str(appid), {}).get('success'):\n",
        "            continue\n",
        "\n",
        "        game_data = data[str(appid)]['data']\n",
        "        if game_data.get('type') != 'game':\n",
        "            continue\n",
        "\n",
        "        genres = [g['description'] for g in game_data.get('genres', [])]\n",
        "        categories = [c['description'] for c in game_data.get('categories', [])]\n",
        "\n",
        "        dados.append({\n",
        "            'appid': appid,\n",
        "            'name': name,\n",
        "            'genres': ', '.join(genres),\n",
        "            'categories': ', '.join(categories)\n",
        "        })\n",
        "\n",
        "    except Exception as e:\n",
        "        continue  # pular erros de timeout ou estrutura\n",
        "\n",
        "    time.sleep(0.3)  # respeitar limite de requisições\n",
        "\n",
        "# 4. Salvar como CSV\n",
        "print(f\"\\nTotal de jogos coletados: {len(dados)}\")\n",
        "df = pd.DataFrame(dados)\n",
        "df.to_csv(\"jogos_steam.csv\", index=False, encoding='utf-8-sig')\n",
        "print(\"Arquivo 'jogos_steam.csv' salvo com sucesso.\")\n"
      ],
      "metadata": {
        "colab": {
          "base_uri": "https://localhost:8080/"
        },
        "id": "ldj4MFLyyv_C",
        "outputId": "4aa000c3-dfc1-4881-ec30-d4bdefbcd749"
      },
      "execution_count": null,
      "outputs": [
        {
          "metadata": {
            "tags": null
          },
          "name": "stdout",
          "output_type": "stream",
          "text": [
            "Baixando lista de appids...\n",
            "Coletando dados dos jogos (isso pode levar um tempo)...\n"
          ]
        },
        {
          "output_type": "stream",
          "name": "stderr",
          "text": [
            "100%|██████████| 253622/253622 [1:59:11<00:00, 35.47it/s]"
          ]
        },
        {
          "output_type": "stream",
          "name": "stdout",
          "text": [
            "\n",
            "Total de jogos coletados: 1197\n",
            "Arquivo 'jogos_steam.csv' salvo com sucesso.\n"
          ]
        },
        {
          "output_type": "stream",
          "name": "stderr",
          "text": [
            "\n"
          ]
        }
      ]
    }
  ]
}