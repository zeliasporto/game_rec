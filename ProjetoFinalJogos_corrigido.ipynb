{
 "cells": [
  {
   "cell_type": "markdown",
   "metadata": {
    "id": "YGZ30UGh1Znd"
   },
   "source": [
    "# **UniCEUB - Pós gracuação em Ciência de Dados e Machine Learning - Projeto Final**\n",
    "\n",
    "Alunas:\n",
    "- Mariana Ramírez Diaz\n",
    "- Zelia Santos Porto\n",
    "\n",
    "Projeto: Sistema de recomendação de jogos com base no perfil do jogador usando a metodologia CRISP-DM"
   ]
  },
  {
   "cell_type": "markdown",
   "metadata": {
    "id": "PwAjtQSp2tig"
   },
   "source": [
    "Objetivo: Criar um modelo de aprendizado supervisionado que recomende os 5 jogos mais adequados para um jogador com base em seus dados pessoais e comportamentais, como idade, gênero, frequência de jogo, dispositivos utilizados, gêneros favoritos e motivos para jogar.\n",
    "\n",
    "\n"
   ]
  },
  {
   "cell_type": "markdown",
   "metadata": {
    "id": "tZogVMfP5o2l"
   },
   "source": [
    "**1. Problema de negócio - Business Understanding:**\n",
    "\n",
    "A indústria de jogos eletrônicos tem se consolidado como um dos setores mais expressivos do mercado global de entretenimento. Com milhares de títulos disponíveis, abrangendo diversos gêneros e estilos, torna-se um desafio para os usuários identificar quais jogos estão mais alinhados às suas preferências pessoais. Este problema é ainda mais evidente para novos jogadores ou usuários com pouca interação prévia em plataformas digitais, situação em que sistemas tradicionais de recomendação baseados em histórico de consumo apresentam baixa efetividade.\n",
    "\n",
    "Diante desse cenário, propõe-se o desenvolvimento de um sistema de recomendação de jogos eletrônicos que utilize informações demográficas e comportamentais declaradas pelos próprios usuários, a fim de oferecer sugestões personalizadas e coerentes com seus perfis.\n",
    "\n",
    "Esse tipo de solução pode ser especialmente útil para empresas de jogos, plataformas de streaming interativo, ou serviços de assinatura que desejem oferecer experiências mais individualizadas, atrair novos públicos e fidelizar usuários com sugestões assertivas."
   ]
  },
  {
   "cell_type": "markdown",
   "metadata": {
    "id": "OVmfu1ok5vG_"
   },
   "source": [
    "Critérios de sucesso:\n",
    "- O modelo deve prever corretamente ao menos 3 dos 5 jogos favoritos com base em jogadores similares.\n",
    "- Geração de recomendações coerentes com os gêneros marcados como preferidos.\n",
    "- Modelo com acurácia superior a um baseline aleatório.\n"
   ]
  },
  {
   "cell_type": "markdown",
   "metadata": {
    "id": "Ta0aGPcg6hi9"
   },
   "source": [
    "Recursos disponíveis:\n",
    "- Dataset de jogadores (Excel)\n",
    "- API de jogos da Steam\n",
    "- Ferramentas: Python, Pandas, Scikit-learn, Streamlit ou FastAPI"
   ]
  },
  {
   "cell_type": "markdown",
   "metadata": {
    "id": "e4Run_Qd7FNw"
   },
   "source": [
    "Riscos e restrições:\n",
    "- Pequeno volume de dados de entrada\n",
    "- Possível inconsistência ou subjetividade nas respostas de favoritos\n",
    "- Dificuldade de mapeamento de jogos favoritos do usuário para jogos válidos da Steam"
   ]
  },
  {
   "cell_type": "markdown",
   "metadata": {
    "id": "FqjAsz_o7gts"
   },
   "source": [
    "**2. Entendimento dos dados - Data Understanding**"
   ]
  },
  {
   "cell_type": "markdown",
   "metadata": {
    "id": "SpPc7nU-_dzl"
   },
   "source": [
    "2.1 Visão geral dos dados"
   ]
  },
  {
   "cell_type": "code",
   "execution_count": 1,
   "metadata": {},
   "outputs": [
    {
     "name": "stdout",
     "output_type": "stream",
     "text": [
      "Requirement already satisfied: requests in c:\\python\\lib\\site-packages (2.32.4)\n",
      "Requirement already satisfied: charset_normalizer<4,>=2 in c:\\python\\lib\\site-packages (from requests) (3.4.2)\n",
      "Requirement already satisfied: idna<4,>=2.5 in c:\\python\\lib\\site-packages (from requests) (3.10)\n",
      "Requirement already satisfied: urllib3<3,>=1.21.1 in c:\\python\\lib\\site-packages (from requests) (2.5.0)\n",
      "Requirement already satisfied: certifi>=2017.4.17 in c:\\python\\lib\\site-packages (from requests) (2025.6.15)\n",
      "Note: you may need to restart the kernel to use updated packages.\n"
     ]
    },
    {
     "name": "stderr",
     "output_type": "stream",
     "text": [
      "\n",
      "[notice] A new release of pip is available: 25.0.1 -> 25.1.1\n",
      "[notice] To update, run: python.exe -m pip install --upgrade pip\n"
     ]
    }
   ],
   "source": [
    "pip install requests"
   ]
  },
  {
   "cell_type": "code",
   "execution_count": 2,
   "metadata": {},
   "outputs": [
    {
     "name": "stdout",
     "output_type": "stream",
     "text": [
      "Requirement already satisfied: openpyxl in c:\\python\\lib\\site-packages (3.1.5)\n",
      "Requirement already satisfied: et-xmlfile in c:\\python\\lib\\site-packages (from openpyxl) (2.0.0)\n",
      "Note: you may need to restart the kernel to use updated packages.\n"
     ]
    },
    {
     "name": "stderr",
     "output_type": "stream",
     "text": [
      "\n",
      "[notice] A new release of pip is available: 25.0.1 -> 25.1.1\n",
      "[notice] To update, run: python.exe -m pip install --upgrade pip\n"
     ]
    }
   ],
   "source": [
    "pip install openpyxl"
   ]
  },
  {
   "cell_type": "code",
   "execution_count": 3,
   "metadata": {},
   "outputs": [
    {
     "name": "stdout",
     "output_type": "stream",
     "text": [
      "Requirement already satisfied: matplotlib in c:\\python\\lib\\site-packages (3.10.3)\n",
      "Requirement already satisfied: contourpy>=1.0.1 in c:\\python\\lib\\site-packages (from matplotlib) (1.3.2)\n",
      "Requirement already satisfied: cycler>=0.10 in c:\\python\\lib\\site-packages (from matplotlib) (0.12.1)\n",
      "Requirement already satisfied: fonttools>=4.22.0 in c:\\python\\lib\\site-packages (from matplotlib) (4.58.4)\n",
      "Requirement already satisfied: kiwisolver>=1.3.1 in c:\\python\\lib\\site-packages (from matplotlib) (1.4.8)\n",
      "Requirement already satisfied: numpy>=1.23 in c:\\python\\lib\\site-packages (from matplotlib) (2.3.1)\n",
      "Requirement already satisfied: packaging>=20.0 in c:\\users\\administrador\\appdata\\roaming\\python\\python313\\site-packages (from matplotlib) (25.0)\n",
      "Requirement already satisfied: pillow>=8 in c:\\python\\lib\\site-packages (from matplotlib) (11.2.1)\n",
      "Requirement already satisfied: pyparsing>=2.3.1 in c:\\python\\lib\\site-packages (from matplotlib) (3.2.3)\n",
      "Requirement already satisfied: python-dateutil>=2.7 in c:\\users\\administrador\\appdata\\roaming\\python\\python313\\site-packages (from matplotlib) (2.9.0.post0)\n",
      "Requirement already satisfied: six>=1.5 in c:\\users\\administrador\\appdata\\roaming\\python\\python313\\site-packages (from python-dateutil>=2.7->matplotlib) (1.17.0)\n",
      "Note: you may need to restart the kernel to use updated packages.\n"
     ]
    },
    {
     "name": "stderr",
     "output_type": "stream",
     "text": [
      "\n",
      "[notice] A new release of pip is available: 25.0.1 -> 25.1.1\n",
      "[notice] To update, run: python.exe -m pip install --upgrade pip\n"
     ]
    }
   ],
   "source": [
    "pip install matplotlib"
   ]
  },
  {
   "cell_type": "code",
   "execution_count": 4,
   "metadata": {},
   "outputs": [
    {
     "name": "stdout",
     "output_type": "stream",
     "text": [
      "Requirement already satisfied: seaborn in c:\\python\\lib\\site-packages (0.13.2)\n",
      "Requirement already satisfied: numpy!=1.24.0,>=1.20 in c:\\python\\lib\\site-packages (from seaborn) (2.3.1)\n",
      "Requirement already satisfied: pandas>=1.2 in c:\\python\\lib\\site-packages (from seaborn) (2.3.0)\n",
      "Requirement already satisfied: matplotlib!=3.6.1,>=3.4 in c:\\python\\lib\\site-packages (from seaborn) (3.10.3)\n",
      "Requirement already satisfied: contourpy>=1.0.1 in c:\\python\\lib\\site-packages (from matplotlib!=3.6.1,>=3.4->seaborn) (1.3.2)\n",
      "Requirement already satisfied: cycler>=0.10 in c:\\python\\lib\\site-packages (from matplotlib!=3.6.1,>=3.4->seaborn) (0.12.1)\n",
      "Requirement already satisfied: fonttools>=4.22.0 in c:\\python\\lib\\site-packages (from matplotlib!=3.6.1,>=3.4->seaborn) (4.58.4)\n",
      "Requirement already satisfied: kiwisolver>=1.3.1 in c:\\python\\lib\\site-packages (from matplotlib!=3.6.1,>=3.4->seaborn) (1.4.8)\n",
      "Requirement already satisfied: packaging>=20.0 in c:\\users\\administrador\\appdata\\roaming\\python\\python313\\site-packages (from matplotlib!=3.6.1,>=3.4->seaborn) (25.0)\n",
      "Requirement already satisfied: pillow>=8 in c:\\python\\lib\\site-packages (from matplotlib!=3.6.1,>=3.4->seaborn) (11.2.1)\n",
      "Requirement already satisfied: pyparsing>=2.3.1 in c:\\python\\lib\\site-packages (from matplotlib!=3.6.1,>=3.4->seaborn) (3.2.3)\n",
      "Requirement already satisfied: python-dateutil>=2.7 in c:\\users\\administrador\\appdata\\roaming\\python\\python313\\site-packages (from matplotlib!=3.6.1,>=3.4->seaborn) (2.9.0.post0)\n",
      "Requirement already satisfied: pytz>=2020.1 in c:\\python\\lib\\site-packages (from pandas>=1.2->seaborn) (2025.2)\n",
      "Requirement already satisfied: tzdata>=2022.7 in c:\\python\\lib\\site-packages (from pandas>=1.2->seaborn) (2025.2)\n",
      "Requirement already satisfied: six>=1.5 in c:\\users\\administrador\\appdata\\roaming\\python\\python313\\site-packages (from python-dateutil>=2.7->matplotlib!=3.6.1,>=3.4->seaborn) (1.17.0)\n",
      "Note: you may need to restart the kernel to use updated packages.\n"
     ]
    },
    {
     "name": "stderr",
     "output_type": "stream",
     "text": [
      "\n",
      "[notice] A new release of pip is available: 25.0.1 -> 25.1.1\n",
      "[notice] To update, run: python.exe -m pip install --upgrade pip\n"
     ]
    }
   ],
   "source": [
    "pip install seaborn"
   ]
  },
  {
   "cell_type": "code",
   "execution_count": 5,
   "metadata": {
    "id": "1xn2JcCICeJL"
   },
   "outputs": [],
   "source": [
    "# Importar bibliotecas\n",
    "import pandas as pd\n",
    "import requests\n",
    "import numpy as np"
   ]
  },
  {
   "cell_type": "code",
   "execution_count": 6,
   "metadata": {
    "id": "A5iG0Y5RCiQz"
   },
   "outputs": [],
   "source": [
    "# Carregar os datasets\n",
    "\n",
    "# Perfil de jogadores\n",
    "df_jogadores = pd.read_excel(\"datasets/dataset jogadores.xlsx\")\n",
    "\n",
    "# Perfil de jogos\n",
    "df_jogos = pd.read_csv(\"datasets/jogos_steam.csv\")"
   ]
  },
  {
   "cell_type": "code",
   "execution_count": 7,
   "metadata": {
    "colab": {
     "base_uri": "https://localhost:8080/",
     "height": 602
    },
    "id": "1-8Cog1UDAvC",
    "outputId": "dd52dbf3-bff2-409d-ec38-ecfdaf9761b3"
   },
   "outputs": [
    {
     "data": {
      "text/html": [
       "<div>\n",
       "<style scoped>\n",
       "    .dataframe tbody tr th:only-of-type {\n",
       "        vertical-align: middle;\n",
       "    }\n",
       "\n",
       "    .dataframe tbody tr th {\n",
       "        vertical-align: top;\n",
       "    }\n",
       "\n",
       "    .dataframe thead th {\n",
       "        text-align: right;\n",
       "    }\n",
       "</style>\n",
       "<table border=\"1\" class=\"dataframe\">\n",
       "  <thead>\n",
       "    <tr style=\"text-align: right;\">\n",
       "      <th></th>\n",
       "      <th>Timestamp</th>\n",
       "      <th>Age</th>\n",
       "      <th>Gender</th>\n",
       "      <th>Location</th>\n",
       "      <th>How often do you play video games?</th>\n",
       "      <th>How many hours do you typically spend gaming in a week?</th>\n",
       "      <th>Which device do you play games on the most?(Check all that apply)</th>\n",
       "      <th>What genres of video games do you play? (Check all that apply)</th>\n",
       "      <th>What is your favorite game?</th>\n",
       "      <th>How do you discover new games? (Check all that apply)</th>\n",
       "      <th>...</th>\n",
       "      <th>Why do you play video games? (Check all that apply)</th>\n",
       "      <th>How often do you play video games?</th>\n",
       "      <th>How many hours do you typically spend gaming in a week?</th>\n",
       "      <th>Which device do you play games on the most?(Check all that apply)</th>\n",
       "      <th>What genres of video games do you play? (Check all that apply)</th>\n",
       "      <th>What is your favorite game?</th>\n",
       "      <th>How do you discover new games? (Check all that apply)</th>\n",
       "      <th>Do you prefer single-player or multiplayer games?</th>\n",
       "      <th>How much do you spend on gaming monthly (including in-game purchases, new games, etc.)?</th>\n",
       "      <th>Why do you play video games? (Check all that apply)</th>\n",
       "    </tr>\n",
       "  </thead>\n",
       "  <tbody>\n",
       "    <tr>\n",
       "      <th>0</th>\n",
       "      <td>2024-10-24 13:09:27.109</td>\n",
       "      <td>18</td>\n",
       "      <td>Male</td>\n",
       "      <td>Bangalore</td>\n",
       "      <td>Daily</td>\n",
       "      <td>10-20 hours</td>\n",
       "      <td>Mobile</td>\n",
       "      <td>Sports</td>\n",
       "      <td>FC MOBILE</td>\n",
       "      <td>Social Media, Gaming Forums</td>\n",
       "      <td>...</td>\n",
       "      <td>For fun/entertainment, To relieve stress</td>\n",
       "      <td>NaN</td>\n",
       "      <td>NaN</td>\n",
       "      <td>NaN</td>\n",
       "      <td>NaN</td>\n",
       "      <td>NaN</td>\n",
       "      <td>NaN</td>\n",
       "      <td>NaN</td>\n",
       "      <td>NaN</td>\n",
       "      <td>NaN</td>\n",
       "    </tr>\n",
       "    <tr>\n",
       "      <th>1</th>\n",
       "      <td>2024-10-24 13:09:34.343</td>\n",
       "      <td>19</td>\n",
       "      <td>Male</td>\n",
       "      <td>Hell road , Bangalore</td>\n",
       "      <td>Rarely/Never</td>\n",
       "      <td>0</td>\n",
       "      <td>Mobile</td>\n",
       "      <td>Puzzle/Strategy, Simulation (e.g., The Sims)</td>\n",
       "      <td>Wukong</td>\n",
       "      <td>Social Media</td>\n",
       "      <td>...</td>\n",
       "      <td>To improve skills/competition</td>\n",
       "      <td>NaN</td>\n",
       "      <td>NaN</td>\n",
       "      <td>NaN</td>\n",
       "      <td>NaN</td>\n",
       "      <td>NaN</td>\n",
       "      <td>NaN</td>\n",
       "      <td>NaN</td>\n",
       "      <td>NaN</td>\n",
       "      <td>NaN</td>\n",
       "    </tr>\n",
       "    <tr>\n",
       "      <th>2</th>\n",
       "      <td>2024-10-24 13:23:13.403</td>\n",
       "      <td>19</td>\n",
       "      <td>Male</td>\n",
       "      <td>Bangalore</td>\n",
       "      <td>Rarely/Never</td>\n",
       "      <td>More than 20 hours</td>\n",
       "      <td>Console (PlayStation, Xbox, etc.)</td>\n",
       "      <td>First-Person Shooter (FPS)</td>\n",
       "      <td>Call of duty</td>\n",
       "      <td>Gaming Forums</td>\n",
       "      <td>...</td>\n",
       "      <td>For fun/entertainment</td>\n",
       "      <td>NaN</td>\n",
       "      <td>NaN</td>\n",
       "      <td>NaN</td>\n",
       "      <td>NaN</td>\n",
       "      <td>NaN</td>\n",
       "      <td>NaN</td>\n",
       "      <td>NaN</td>\n",
       "      <td>NaN</td>\n",
       "      <td>NaN</td>\n",
       "    </tr>\n",
       "    <tr>\n",
       "      <th>3</th>\n",
       "      <td>2024-10-24 13:30:42.445</td>\n",
       "      <td>18</td>\n",
       "      <td>Female</td>\n",
       "      <td>Banglore</td>\n",
       "      <td>Rarely/Never</td>\n",
       "      <td>Less than 5 hours</td>\n",
       "      <td>Mobile</td>\n",
       "      <td>Puzzle/Strategy</td>\n",
       "      <td>Subway</td>\n",
       "      <td>Social Media</td>\n",
       "      <td>...</td>\n",
       "      <td>For fun/entertainment</td>\n",
       "      <td>NaN</td>\n",
       "      <td>NaN</td>\n",
       "      <td>NaN</td>\n",
       "      <td>NaN</td>\n",
       "      <td>NaN</td>\n",
       "      <td>NaN</td>\n",
       "      <td>NaN</td>\n",
       "      <td>NaN</td>\n",
       "      <td>NaN</td>\n",
       "    </tr>\n",
       "    <tr>\n",
       "      <th>4</th>\n",
       "      <td>2024-10-24 13:32:26.815</td>\n",
       "      <td>18</td>\n",
       "      <td>Female</td>\n",
       "      <td>Banglore, Karnataka</td>\n",
       "      <td>Daily</td>\n",
       "      <td>Less than 5 hours</td>\n",
       "      <td>PC, Mobile</td>\n",
       "      <td>Action/Adventure, First-Person Shooter (FPS), ...</td>\n",
       "      <td>Solo leveling arise</td>\n",
       "      <td>Friends/Family Recommendations</td>\n",
       "      <td>...</td>\n",
       "      <td>For fun/entertainment, To relieve stress, To s...</td>\n",
       "      <td>NaN</td>\n",
       "      <td>NaN</td>\n",
       "      <td>NaN</td>\n",
       "      <td>NaN</td>\n",
       "      <td>NaN</td>\n",
       "      <td>NaN</td>\n",
       "      <td>NaN</td>\n",
       "      <td>NaN</td>\n",
       "      <td>NaN</td>\n",
       "    </tr>\n",
       "  </tbody>\n",
       "</table>\n",
       "<p>5 rows × 22 columns</p>\n",
       "</div>"
      ],
      "text/plain": [
       "                Timestamp  Age  Gender                Location  \\\n",
       "0 2024-10-24 13:09:27.109   18    Male               Bangalore   \n",
       "1 2024-10-24 13:09:34.343   19    Male  Hell road , Bangalore    \n",
       "2 2024-10-24 13:23:13.403   19    Male               Bangalore   \n",
       "3 2024-10-24 13:30:42.445   18  Female                Banglore   \n",
       "4 2024-10-24 13:32:26.815   18  Female    Banglore, Karnataka    \n",
       "\n",
       "    How often do you play video games?    \\\n",
       "0                                  Daily   \n",
       "1                           Rarely/Never   \n",
       "2                           Rarely/Never   \n",
       "3                           Rarely/Never   \n",
       "4                                  Daily   \n",
       "\n",
       "    How many hours do you typically spend gaming in a week?    \\\n",
       "0                                        10-20 hours            \n",
       "1                                                  0            \n",
       "2                                 More than 20 hours            \n",
       "3                                  Less than 5 hours            \n",
       "4                                  Less than 5 hours            \n",
       "\n",
       "    Which device do you play games on the most?(Check all that apply)    \\\n",
       "0                                             Mobile                      \n",
       "1                                             Mobile                      \n",
       "2                  Console (PlayStation, Xbox, etc.)                      \n",
       "3                                             Mobile                      \n",
       "4                                         PC, Mobile                      \n",
       "\n",
       "  What genres of video games do you play? (Check all that apply)    \\\n",
       "0                                             Sports                 \n",
       "1       Puzzle/Strategy, Simulation (e.g., The Sims)                 \n",
       "2                         First-Person Shooter (FPS)                 \n",
       "3                                    Puzzle/Strategy                 \n",
       "4  Action/Adventure, First-Person Shooter (FPS), ...                 \n",
       "\n",
       "    What is your favorite game?    \\\n",
       "0                       FC MOBILE   \n",
       "1                         Wukong    \n",
       "2                    Call of duty   \n",
       "3                          Subway   \n",
       "4            Solo leveling arise    \n",
       "\n",
       "  How do you discover new games? (Check all that apply)    ...  \\\n",
       "0                        Social Media, Gaming Forums       ...   \n",
       "1                                       Social Media       ...   \n",
       "2                                      Gaming Forums       ...   \n",
       "3                                       Social Media       ...   \n",
       "4                     Friends/Family Recommendations       ...   \n",
       "\n",
       "  Why do you play video games? (Check all that apply)    \\\n",
       "0           For fun/entertainment, To relieve stress      \n",
       "1                      To improve skills/competition      \n",
       "2                              For fun/entertainment      \n",
       "3                              For fun/entertainment      \n",
       "4  For fun/entertainment, To relieve stress, To s...      \n",
       "\n",
       "  How often do you play video games?  \\\n",
       "0                                NaN   \n",
       "1                                NaN   \n",
       "2                                NaN   \n",
       "3                                NaN   \n",
       "4                                NaN   \n",
       "\n",
       "  How many hours do you typically spend gaming in a week?  \\\n",
       "0                                                NaN        \n",
       "1                                                NaN        \n",
       "2                                                NaN        \n",
       "3                                                NaN        \n",
       "4                                                NaN        \n",
       "\n",
       "  Which device do you play games on the most?(Check all that apply)  \\\n",
       "0                                                NaN                  \n",
       "1                                                NaN                  \n",
       "2                                                NaN                  \n",
       "3                                                NaN                  \n",
       "4                                                NaN                  \n",
       "\n",
       "  What genres of video games do you play? (Check all that apply)  \\\n",
       "0                                                NaN               \n",
       "1                                                NaN               \n",
       "2                                                NaN               \n",
       "3                                                NaN               \n",
       "4                                                NaN               \n",
       "\n",
       "  What is your favorite game?  \\\n",
       "0                         NaN   \n",
       "1                         NaN   \n",
       "2                         NaN   \n",
       "3                         NaN   \n",
       "4                         NaN   \n",
       "\n",
       "  How do you discover new games? (Check all that apply)  \\\n",
       "0                                                NaN      \n",
       "1                                                NaN      \n",
       "2                                                NaN      \n",
       "3                                                NaN      \n",
       "4                                                NaN      \n",
       "\n",
       "  Do you prefer single-player or multiplayer games?  \\\n",
       "0                                               NaN   \n",
       "1                                               NaN   \n",
       "2                                               NaN   \n",
       "3                                               NaN   \n",
       "4                                               NaN   \n",
       "\n",
       "  How much do you spend on gaming monthly (including in-game purchases, new games, etc.)?  \\\n",
       "0                                                NaN                                        \n",
       "1                                                NaN                                        \n",
       "2                                                NaN                                        \n",
       "3                                                NaN                                        \n",
       "4                                                NaN                                        \n",
       "\n",
       "  Why do you play video games? (Check all that apply)  \n",
       "0                                                NaN   \n",
       "1                                                NaN   \n",
       "2                                                NaN   \n",
       "3                                                NaN   \n",
       "4                                                NaN   \n",
       "\n",
       "[5 rows x 22 columns]"
      ]
     },
     "execution_count": 7,
     "metadata": {},
     "output_type": "execute_result"
    }
   ],
   "source": [
    " df_jogadores.head()"
   ]
  },
  {
   "cell_type": "code",
   "execution_count": 8,
   "metadata": {
    "colab": {
     "base_uri": "https://localhost:8080/",
     "height": 206
    },
    "id": "TxqW7CY5EjV4",
    "outputId": "f5fffbaa-df59-4364-ed88-f8662a418e31"
   },
   "outputs": [
    {
     "data": {
      "text/html": [
       "<div>\n",
       "<style scoped>\n",
       "    .dataframe tbody tr th:only-of-type {\n",
       "        vertical-align: middle;\n",
       "    }\n",
       "\n",
       "    .dataframe tbody tr th {\n",
       "        vertical-align: top;\n",
       "    }\n",
       "\n",
       "    .dataframe thead th {\n",
       "        text-align: right;\n",
       "    }\n",
       "</style>\n",
       "<table border=\"1\" class=\"dataframe\">\n",
       "  <thead>\n",
       "    <tr style=\"text-align: right;\">\n",
       "      <th></th>\n",
       "      <th>appid</th>\n",
       "      <th>name</th>\n",
       "      <th>genres</th>\n",
       "      <th>categories</th>\n",
       "    </tr>\n",
       "  </thead>\n",
       "  <tbody>\n",
       "    <tr>\n",
       "      <th>0</th>\n",
       "      <td>10</td>\n",
       "      <td>Counter-Strike</td>\n",
       "      <td>Action</td>\n",
       "      <td>Multi-player, PvP, Online PvP, Shared/Split Sc...</td>\n",
       "    </tr>\n",
       "    <tr>\n",
       "      <th>1</th>\n",
       "      <td>20</td>\n",
       "      <td>Team Fortress Classic</td>\n",
       "      <td>Action</td>\n",
       "      <td>Multi-player, PvP, Online PvP, Shared/Split Sc...</td>\n",
       "    </tr>\n",
       "    <tr>\n",
       "      <th>2</th>\n",
       "      <td>30</td>\n",
       "      <td>Day of Defeat</td>\n",
       "      <td>Action</td>\n",
       "      <td>Multi-player, Camera Comfort, Color Alternativ...</td>\n",
       "    </tr>\n",
       "    <tr>\n",
       "      <th>3</th>\n",
       "      <td>40</td>\n",
       "      <td>Deathmatch Classic</td>\n",
       "      <td>Action</td>\n",
       "      <td>Multi-player, PvP, Online PvP, Shared/Split Sc...</td>\n",
       "    </tr>\n",
       "    <tr>\n",
       "      <th>4</th>\n",
       "      <td>50</td>\n",
       "      <td>Half-Life: Opposing Force</td>\n",
       "      <td>Action</td>\n",
       "      <td>Single-player, Multi-player, Custom Volume Con...</td>\n",
       "    </tr>\n",
       "  </tbody>\n",
       "</table>\n",
       "</div>"
      ],
      "text/plain": [
       "   appid                       name  genres  \\\n",
       "0     10             Counter-Strike  Action   \n",
       "1     20      Team Fortress Classic  Action   \n",
       "2     30              Day of Defeat  Action   \n",
       "3     40         Deathmatch Classic  Action   \n",
       "4     50  Half-Life: Opposing Force  Action   \n",
       "\n",
       "                                          categories  \n",
       "0  Multi-player, PvP, Online PvP, Shared/Split Sc...  \n",
       "1  Multi-player, PvP, Online PvP, Shared/Split Sc...  \n",
       "2  Multi-player, Camera Comfort, Color Alternativ...  \n",
       "3  Multi-player, PvP, Online PvP, Shared/Split Sc...  \n",
       "4  Single-player, Multi-player, Custom Volume Con...  "
      ]
     },
     "execution_count": 8,
     "metadata": {},
     "output_type": "execute_result"
    }
   ],
   "source": [
    "df_jogos.head()"
   ]
  },
  {
   "cell_type": "code",
   "execution_count": 9,
   "metadata": {
    "colab": {
     "base_uri": "https://localhost:8080/"
    },
    "id": "h0BCVy2gFGDA",
    "outputId": "eefe5af9-ccd0-4f83-b8fa-1be114523847"
   },
   "outputs": [
    {
     "name": "stdout",
     "output_type": "stream",
     "text": [
      "<class 'pandas.core.frame.DataFrame'>\n",
      "RangeIndex: 500 entries, 0 to 499\n",
      "Data columns (total 22 columns):\n",
      " #   Column                                                                                      Non-Null Count  Dtype         \n",
      "---  ------                                                                                      --------------  -----         \n",
      " 0   Timestamp                                                                                   500 non-null    datetime64[ns]\n",
      " 1   Age                                                                                         500 non-null    int64         \n",
      " 2   Gender                                                                                      500 non-null    object        \n",
      " 3   Location                                                                                    500 non-null    object        \n",
      " 4     How often do you play video games?                                                        500 non-null    object        \n",
      " 5     How many hours do you typically spend gaming in a week?                                   500 non-null    object        \n",
      " 6     Which device do you play games on the most?(Check all that apply)                         500 non-null    object        \n",
      " 7   What genres of video games do you play? (Check all that apply)                              500 non-null    object        \n",
      " 8     What is your favorite game?                                                               500 non-null    object        \n",
      " 9   How do you discover new games? (Check all that apply)                                       500 non-null    object        \n",
      " 10    Do you prefer single-player or multiplayer games?                                         500 non-null    object        \n",
      " 11   How much do you spend on gaming monthly (including in-game purchases, new games, etc.)?    500 non-null    object        \n",
      " 12  Why do you play video games? (Check all that apply)                                         500 non-null    object        \n",
      " 13  How often do you play video games?                                                          300 non-null    object        \n",
      " 14  How many hours do you typically spend gaming in a week?                                     300 non-null    object        \n",
      " 15  Which device do you play games on the most?(Check all that apply)                           300 non-null    object        \n",
      " 16  What genres of video games do you play? (Check all that apply)                              300 non-null    object        \n",
      " 17  What is your favorite game?                                                                 300 non-null    object        \n",
      " 18  How do you discover new games? (Check all that apply)                                       300 non-null    object        \n",
      " 19  Do you prefer single-player or multiplayer games?                                           300 non-null    object        \n",
      " 20  How much do you spend on gaming monthly (including in-game purchases, new games, etc.)?     300 non-null    object        \n",
      " 21  Why do you play video games? (Check all that apply)                                         300 non-null    object        \n",
      "dtypes: datetime64[ns](1), int64(1), object(20)\n",
      "memory usage: 86.1+ KB\n"
     ]
    }
   ],
   "source": [
    "df_jogadores.info()"
   ]
  },
  {
   "cell_type": "code",
   "execution_count": 10,
   "metadata": {
    "colab": {
     "base_uri": "https://localhost:8080/"
    },
    "id": "pRt_oDpGFRnL",
    "outputId": "1cf3658f-20d0-4b3d-ba18-d4fa0ede5f97"
   },
   "outputs": [
    {
     "name": "stdout",
     "output_type": "stream",
     "text": [
      "<class 'pandas.core.frame.DataFrame'>\n",
      "RangeIndex: 1197 entries, 0 to 1196\n",
      "Data columns (total 4 columns):\n",
      " #   Column      Non-Null Count  Dtype \n",
      "---  ------      --------------  ----- \n",
      " 0   appid       1197 non-null   int64 \n",
      " 1   name        1197 non-null   object\n",
      " 2   genres      1161 non-null   object\n",
      " 3   categories  1153 non-null   object\n",
      "dtypes: int64(1), object(3)\n",
      "memory usage: 37.5+ KB\n"
     ]
    }
   ],
   "source": [
    "df_jogos.info()"
   ]
  },
  {
   "cell_type": "markdown",
   "metadata": {
    "id": "XDPWCpNgJHz7"
   },
   "source": [
    "Ambos os conjuntos de dados utilizados são compostos majoritariamente por variáveis categóricas, como gêneros de jogos, dispositivos utilizados e preferências dos usuários.\n",
    "\n",
    "No dataset de jogadores, foram identificadas colunas duplicadas, provavelmente geradas por falhas na exportação do formulário.\n",
    "\n",
    "Já no dataset dos jogos, os campos genres e categories apresentam múltiplos valores em formato de texto, separados por vírgulas."
   ]
  },
  {
   "cell_type": "code",
   "execution_count": 11,
   "metadata": {
    "id": "UZsAVVCg73to"
   },
   "outputs": [],
   "source": [
    "# Manter apenas as primeiras 13 colunas (são as únicas que não estão duplicadas)\n",
    "df_jogadores = df_jogadores.iloc[:, :13]\n",
    "\n",
    "# Renomear para nomes mais curtos e práticos\n",
    "df_jogadores.columns = [\n",
    "    \"timestamp\",\n",
    "    \"age\",\n",
    "    \"gender\",\n",
    "    \"location\",\n",
    "    \"frequency\",\n",
    "    \"hours_per_week\",\n",
    "    \"device\",\n",
    "    \"genres\",\n",
    "    \"favorite_game\",\n",
    "    \"discovery_methods\",\n",
    "    \"preference_mode\",\n",
    "    \"monthly_spending\",\n",
    "    \"motivation\"\n",
    "]\n",
    "\n",
    "# Remover espaços em colunas categóricas (string)\n",
    "for col in df_jogadores.select_dtypes(include='object').columns:\n",
    "    df_jogadores[col] = df_jogadores[col].astype(str).str.strip()\n"
   ]
  },
  {
   "cell_type": "markdown",
   "metadata": {
    "id": "feO8bRn6JNv2"
   },
   "source": [
    "2.2 Análise exploratória e 2.3 Qualidade dos dados"
   ]
  },
  {
   "cell_type": "code",
   "execution_count": 12,
   "metadata": {
    "id": "L9V_hzQyJNLQ"
   },
   "outputs": [],
   "source": [
    "import matplotlib.pyplot as plt\n",
    "import seaborn as sns"
   ]
  },
  {
   "cell_type": "code",
   "execution_count": 13,
   "metadata": {
    "colab": {
     "base_uri": "https://localhost:8080/",
     "height": 407
    },
    "id": "phLmthCMJ3Qf",
    "outputId": "5afced27-6a2a-4d79-cb3b-3b3660c169d2"
   },
   "outputs": [
    {
     "data": {
      "image/png": "[encoded data removed]",
      "text/plain": [
       "<Figure size 800x400 with 1 Axes>"
      ]
     },
     "metadata": {},
     "output_type": "display_data"
    }
   ],
   "source": [
    "# Distribuição da idade jogadores\n",
    "plt.figure(figsize=(8, 4))\n",
    "sns.histplot(df_jogadores[\"age\"], bins=10, kde=True)\n",
    "plt.title(\"Distribuição idade jogadores\")\n",
    "plt.xlabel(\"Idade\")\n",
    "plt.ylabel(\"Frequência\")\n",
    "plt.tight_layout()\n",
    "plt.show()"
   ]
  },
  {
   "cell_type": "code",
   "execution_count": 14,
   "metadata": {
    "colab": {
     "base_uri": "https://localhost:8080/",
     "height": 407
    },
    "id": "4i7PJmLsKsqY",
    "outputId": "74197b26-5c56-418e-9e98-eb4c4683cfde"
   },
   "outputs": [
    {
     "data": {
      "image/png": "[encoded data removed]",
      "text/plain": [
       "<Figure size 800x400 with 1 Axes>"
      ]
     },
     "metadata": {},
     "output_type": "display_data"
    }
   ],
   "source": [
    "# Distribuição da frequência de jogo\n",
    "\n",
    "ordem_personalizada = [\n",
    "    \"Rarely/Never\",\n",
    "    \"A few times in a month\",\n",
    "    \"A few times a week\",\n",
    "    \"Daily\"\n",
    "]\n",
    "\n",
    "plt.figure(figsize=(8, 4))\n",
    "sns.countplot(data=df_jogadores, x=\"frequency\", order=ordem_personalizada)\n",
    "plt.title(\"Frequência com que Jogadores Jogam Videogames\")\n",
    "plt.xlabel(\"Frequência de Jogo\")\n",
    "plt.ylabel(\"Número de Jogadores\")\n",
    "plt.tight_layout()\n",
    "plt.show()"
   ]
  },
  {
   "cell_type": "code",
   "execution_count": 15,
   "metadata": {
    "id": "pA2D_Zu2PYHQ"
   },
   "outputs": [],
   "source": [
    "# Olhando o gráfico, é possível converter esses dados categoricos em numericos"
   ]
  },
  {
   "cell_type": "code",
   "execution_count": 16,
   "metadata": {
    "colab": {
     "base_uri": "https://localhost:8080/",
     "height": 476
    },
    "id": "S5EFea64NYpF",
    "outputId": "4e27cf82-4dc1-4ebc-cab7-acd418196160"
   },
   "outputs": [
    {
     "name": "stdout",
     "output_type": "stream",
     "text": [
      "Index(['timestamp', 'age', 'gender', 'location', 'frequency', 'hours_per_week',\n",
      "       'device', 'genres', 'favorite_game', 'discovery_methods',\n",
      "       'preference_mode', 'monthly_spending', 'motivation'],\n",
      "      dtype='object')\n"
     ]
    },
    {
     "name": "stderr",
     "output_type": "stream",
     "text": [
      "<>:6: SyntaxWarning: invalid escape sequence '\\s'\n",
      "<>:6: SyntaxWarning: invalid escape sequence '\\s'\n",
      "C:\\Users\\Administrador\\AppData\\Local\\Temp\\ipykernel_20908\\2361373190.py:6: SyntaxWarning: invalid escape sequence '\\s'\n",
      "  devices_split = df_jogadores[\"device\"].str.split(\",\\s*\")\n"
     ]
    },
    {
     "data": {
      "image/png": "[encoded data removed]",
      "text/plain": [
       "<Figure size 1000x400 with 1 Axes>"
      ]
     },
     "metadata": {},
     "output_type": "display_data"
    }
   ],
   "source": [
    "# Import biblioecas\n",
    "from sklearn.preprocessing import MultiLabelBinarizer\n",
    "\n",
    "# Separar os dispositivos\n",
    "print(df_jogadores.columns)\n",
    "devices_split = df_jogadores[\"device\"].str.split(\",\\s*\")\n",
    "\n",
    "# Binarizar\n",
    "mlb_devices = MultiLabelBinarizer()\n",
    "devices_encoded = pd.DataFrame(\n",
    "    mlb_devices.fit_transform(devices_split),\n",
    "    columns=[f\"device_{d}\" for d in mlb_devices.classes_])\n",
    "\n",
    "# Concatenar ao DataFrame original\n",
    "df_jogadores = pd.concat([df_jogadores, devices_encoded], axis=1)\n",
    "\n",
    "# Dispositivos mais utilizados\n",
    "dispositivo_cols = [col for col in df_jogadores.columns if col.startswith(\"device_\")]\n",
    "uso_dispositivos = df_jogadores[dispositivo_cols].sum().sort_values(ascending=False)\n",
    "\n",
    "plt.figure(figsize=(10, 4))\n",
    "sns.barplot(x=uso_dispositivos.index.str.replace(\"device_\", \"\"), y=uso_dispositivos.values)\n",
    "plt.title(\"Dispositivos Utilizados para Jogar\")\n",
    "plt.xlabel(\"Dispositivo\")\n",
    "plt.ylabel(\"Quantidade de Jogadores\")\n",
    "plt.xticks(rotation=45)\n",
    "plt.tight_layout()\n",
    "plt.show()"
   ]
  },
  {
   "cell_type": "code",
   "execution_count": 17,
   "metadata": {
    "colab": {
     "base_uri": "https://localhost:8080/",
     "height": 507
    },
    "id": "xtotl_1b9BY9",
    "outputId": "aa95e159-5970-4658-c595-272284932cbd"
   },
   "outputs": [
    {
     "name": "stderr",
     "output_type": "stream",
     "text": [
      "<>:3: SyntaxWarning: invalid escape sequence '\\s'\n",
      "<>:3: SyntaxWarning: invalid escape sequence '\\s'\n",
      "C:\\Users\\Administrador\\AppData\\Local\\Temp\\ipykernel_20908\\335445342.py:3: SyntaxWarning: invalid escape sequence '\\s'\n",
      "  genres_split = df_jogadores[\"genres\"].str.split(\",\\s*\")\n"
     ]
    },
    {
     "data": {
      "image/png": "[encoded data removed]",
      "text/plain": [
       "<Figure size 1200x500 with 1 Axes>"
      ]
     },
     "metadata": {},
     "output_type": "display_data"
    }
   ],
   "source": [
    "# Gêneros de jogos\n",
    "# Separar os gêneros da coluna \"genres\"\n",
    "genres_split = df_jogadores[\"genres\"].str.split(\",\\s*\")\n",
    "\n",
    "# Binarizar os gêneros\n",
    "mlb_genres = MultiLabelBinarizer()\n",
    "genres_encoded = pd.DataFrame(\n",
    "    mlb_genres.fit_transform(genres_split),\n",
    "    columns=mlb_genres.classes_)\n",
    "\n",
    "# Concatenar com o DataFrame original\n",
    "df_jogadores = pd.concat([df_jogadores, genres_encoded], axis=1)\n",
    "\n",
    "# Identificar as colunas de gênero criadas\n",
    "genero_cols = mlb_genres.classes_\n",
    "\n",
    "# Somar a quantidade de jogadores por gênero\n",
    "uso_generos = df_jogadores[genero_cols].sum().sort_values(ascending=False)\n",
    "\n",
    "# Plotar o gráfico\n",
    "plt.figure(figsize=(12, 5))\n",
    "sns.barplot(x=uso_generos.index, y=uso_generos.values)\n",
    "plt.title(\"Gêneros de Jogos Mais Populares entre Jogadores\")\n",
    "plt.xlabel(\"Gênero\")\n",
    "plt.ylabel(\"Quantidade de Jogadores\")\n",
    "plt.xticks(rotation=45)\n",
    "plt.tight_layout()\n",
    "plt.show()"
   ]
  },
  {
   "cell_type": "markdown",
   "metadata": {
    "id": "4qKoNWUh-W-r"
   },
   "source": [
    "Com base nos gráficos gerados, é possível observar alguns padrões importantes no perfil dos participantes da pesquisa:\n",
    "\n",
    "A maior parte dos jogadores está na faixa etária entre 15 e 21 anos, o que reflete uma forte presença do público jovem no universo dos videogames.\n",
    "\n",
    "A frequência mais comum de jogo é diária, indicando um alto nível de engajamento entre os respondentes.\n",
    "\n",
    "Os dispositivos mais utilizados para jogar são o mobile e o PC, o que sugere uma preferência por plataformas acessíveis e versáteis.\n",
    "\n",
    "Em relação aos gêneros de jogos preferidos, destacam-se categorias como Action/Adventure, RPG e FPS, evidenciando uma inclinação por jogos envolventes, com narrativa e/ou desafios de habilidade"
   ]
  },
  {
   "cell_type": "markdown",
   "metadata": {
    "id": "J8gMlSKTLe9c"
   },
   "source": [
    "**3. Preparação dos dados - Data Preparation**\n",
    "\n",
    "\n",
    "\n"
   ]
  },
  {
   "cell_type": "markdown",
   "metadata": {
    "id": "q2yDgJ7lLkEI"
   },
   "source": [
    "Na etapa anterior, foi realizada a eliminação de colunas duplicadas, originadas possivelmente por falhas na exportação do formulário. Além disso, foram removidos os espaços em excesso nos nomes das colunas e os títulos foram renomeados para termos mais curtos e padronizados, com o objetivo de facilitar a manipulação e análise dos dados - No dataset de jogadores"
   ]
  },
  {
   "cell_type": "code",
   "execution_count": 18,
   "metadata": {
    "colab": {
     "base_uri": "https://localhost:8080/"
    },
    "id": "btXX1LxROiav",
    "outputId": "35ac05e2-63e7-483e-e95c-41b0f1bc80fa"
   },
   "outputs": [
    {
     "name": "stdout",
     "output_type": "stream",
     "text": [
      "['timestamp', 'age', 'gender', 'location', 'frequency', 'hours_per_week', 'device', 'genres', 'favorite_game', 'discovery_methods', 'preference_mode', 'monthly_spending', 'motivation', 'device_Console', 'device_Console (PlayStation', 'device_Handheld devices (Nintendo Switch', 'device_Mobile', 'device_PC', 'device_Tablet', 'device_Xbox', 'device_etc.)', 'Action/Adventure', 'First-Person Shooter (FPS)', 'MMO (Massively Multiplayer Online)', 'Puzzle/Strategy', 'Role-Playing Games (RPG)', 'Simulation (e.g.', 'Sports', 'The Sims)']\n"
     ]
    }
   ],
   "source": [
    "print(df_jogadores.columns.tolist())"
   ]
  },
  {
   "cell_type": "code",
   "execution_count": 19,
   "metadata": {},
   "outputs": [
    {
     "data": {
      "text/html": [
       "<div>\n",
       "<style scoped>\n",
       "    .dataframe tbody tr th:only-of-type {\n",
       "        vertical-align: middle;\n",
       "    }\n",
       "\n",
       "    .dataframe tbody tr th {\n",
       "        vertical-align: top;\n",
       "    }\n",
       "\n",
       "    .dataframe thead th {\n",
       "        text-align: right;\n",
       "    }\n",
       "</style>\n",
       "<table border=\"1\" class=\"dataframe\">\n",
       "  <thead>\n",
       "    <tr style=\"text-align: right;\">\n",
       "      <th></th>\n",
       "      <th>timestamp</th>\n",
       "      <th>age</th>\n",
       "      <th>gender</th>\n",
       "      <th>frequency</th>\n",
       "      <th>hours_per_week</th>\n",
       "      <th>device</th>\n",
       "      <th>genres</th>\n",
       "      <th>favorite_game</th>\n",
       "      <th>discovery_methods</th>\n",
       "      <th>preference_mode</th>\n",
       "      <th>...</th>\n",
       "      <th>device_Xbox</th>\n",
       "      <th>device_etc.)</th>\n",
       "      <th>Action/Adventure</th>\n",
       "      <th>First-Person Shooter (FPS)</th>\n",
       "      <th>MMO (Massively Multiplayer Online)</th>\n",
       "      <th>Puzzle/Strategy</th>\n",
       "      <th>Role-Playing Games (RPG)</th>\n",
       "      <th>Simulation (e.g.</th>\n",
       "      <th>Sports</th>\n",
       "      <th>The Sims)</th>\n",
       "    </tr>\n",
       "  </thead>\n",
       "  <tbody>\n",
       "    <tr>\n",
       "      <th>0</th>\n",
       "      <td>2024-10-24 13:09:27.109</td>\n",
       "      <td>18</td>\n",
       "      <td>Male</td>\n",
       "      <td>Daily</td>\n",
       "      <td>10-20 hours</td>\n",
       "      <td>Mobile</td>\n",
       "      <td>Sports</td>\n",
       "      <td>FC MOBILE</td>\n",
       "      <td>Social Media, Gaming Forums</td>\n",
       "      <td>Both</td>\n",
       "      <td>...</td>\n",
       "      <td>0</td>\n",
       "      <td>0</td>\n",
       "      <td>0</td>\n",
       "      <td>0</td>\n",
       "      <td>0</td>\n",
       "      <td>0</td>\n",
       "      <td>0</td>\n",
       "      <td>0</td>\n",
       "      <td>1</td>\n",
       "      <td>0</td>\n",
       "    </tr>\n",
       "    <tr>\n",
       "      <th>1</th>\n",
       "      <td>2024-10-24 13:09:34.343</td>\n",
       "      <td>19</td>\n",
       "      <td>Male</td>\n",
       "      <td>Rarely/Never</td>\n",
       "      <td>0</td>\n",
       "      <td>Mobile</td>\n",
       "      <td>Puzzle/Strategy, Simulation (e.g., The Sims)</td>\n",
       "      <td>Wukong</td>\n",
       "      <td>Social Media</td>\n",
       "      <td>Single-player</td>\n",
       "      <td>...</td>\n",
       "      <td>0</td>\n",
       "      <td>0</td>\n",
       "      <td>0</td>\n",
       "      <td>0</td>\n",
       "      <td>0</td>\n",
       "      <td>1</td>\n",
       "      <td>0</td>\n",
       "      <td>1</td>\n",
       "      <td>0</td>\n",
       "      <td>1</td>\n",
       "    </tr>\n",
       "    <tr>\n",
       "      <th>2</th>\n",
       "      <td>2024-10-24 13:23:13.403</td>\n",
       "      <td>19</td>\n",
       "      <td>Male</td>\n",
       "      <td>Rarely/Never</td>\n",
       "      <td>More than 20 hours</td>\n",
       "      <td>Console (PlayStation, Xbox, etc.)</td>\n",
       "      <td>First-Person Shooter (FPS)</td>\n",
       "      <td>Call of duty</td>\n",
       "      <td>Gaming Forums</td>\n",
       "      <td>Multiplayer</td>\n",
       "      <td>...</td>\n",
       "      <td>1</td>\n",
       "      <td>1</td>\n",
       "      <td>0</td>\n",
       "      <td>1</td>\n",
       "      <td>0</td>\n",
       "      <td>0</td>\n",
       "      <td>0</td>\n",
       "      <td>0</td>\n",
       "      <td>0</td>\n",
       "      <td>0</td>\n",
       "    </tr>\n",
       "    <tr>\n",
       "      <th>3</th>\n",
       "      <td>2024-10-24 13:30:42.445</td>\n",
       "      <td>18</td>\n",
       "      <td>Female</td>\n",
       "      <td>Rarely/Never</td>\n",
       "      <td>Less than 5 hours</td>\n",
       "      <td>Mobile</td>\n",
       "      <td>Puzzle/Strategy</td>\n",
       "      <td>Subway</td>\n",
       "      <td>Social Media</td>\n",
       "      <td>Both</td>\n",
       "      <td>...</td>\n",
       "      <td>0</td>\n",
       "      <td>0</td>\n",
       "      <td>0</td>\n",
       "      <td>0</td>\n",
       "      <td>0</td>\n",
       "      <td>1</td>\n",
       "      <td>0</td>\n",
       "      <td>0</td>\n",
       "      <td>0</td>\n",
       "      <td>0</td>\n",
       "    </tr>\n",
       "    <tr>\n",
       "      <th>4</th>\n",
       "      <td>2024-10-24 13:32:26.815</td>\n",
       "      <td>18</td>\n",
       "      <td>Female</td>\n",
       "      <td>Daily</td>\n",
       "      <td>Less than 5 hours</td>\n",
       "      <td>PC, Mobile</td>\n",
       "      <td>Action/Adventure, First-Person Shooter (FPS), ...</td>\n",
       "      <td>Solo leveling arise</td>\n",
       "      <td>Friends/Family Recommendations</td>\n",
       "      <td>Multiplayer</td>\n",
       "      <td>...</td>\n",
       "      <td>0</td>\n",
       "      <td>0</td>\n",
       "      <td>1</td>\n",
       "      <td>1</td>\n",
       "      <td>0</td>\n",
       "      <td>0</td>\n",
       "      <td>1</td>\n",
       "      <td>0</td>\n",
       "      <td>0</td>\n",
       "      <td>0</td>\n",
       "    </tr>\n",
       "    <tr>\n",
       "      <th>...</th>\n",
       "      <td>...</td>\n",
       "      <td>...</td>\n",
       "      <td>...</td>\n",
       "      <td>...</td>\n",
       "      <td>...</td>\n",
       "      <td>...</td>\n",
       "      <td>...</td>\n",
       "      <td>...</td>\n",
       "      <td>...</td>\n",
       "      <td>...</td>\n",
       "      <td>...</td>\n",
       "      <td>...</td>\n",
       "      <td>...</td>\n",
       "      <td>...</td>\n",
       "      <td>...</td>\n",
       "      <td>...</td>\n",
       "      <td>...</td>\n",
       "      <td>...</td>\n",
       "      <td>...</td>\n",
       "      <td>...</td>\n",
       "      <td>...</td>\n",
       "    </tr>\n",
       "    <tr>\n",
       "      <th>495</th>\n",
       "      <td>2024-10-25 16:55:00.000</td>\n",
       "      <td>19</td>\n",
       "      <td>Male</td>\n",
       "      <td>Rarely/Never</td>\n",
       "      <td>5-10 hours</td>\n",
       "      <td>PC</td>\n",
       "      <td>Puzzle/Strategy</td>\n",
       "      <td>Subway</td>\n",
       "      <td>Social Media</td>\n",
       "      <td>Both</td>\n",
       "      <td>...</td>\n",
       "      <td>0</td>\n",
       "      <td>0</td>\n",
       "      <td>0</td>\n",
       "      <td>0</td>\n",
       "      <td>0</td>\n",
       "      <td>1</td>\n",
       "      <td>0</td>\n",
       "      <td>0</td>\n",
       "      <td>0</td>\n",
       "      <td>0</td>\n",
       "    </tr>\n",
       "    <tr>\n",
       "      <th>496</th>\n",
       "      <td>2024-10-25 16:56:00.000</td>\n",
       "      <td>16</td>\n",
       "      <td>Female</td>\n",
       "      <td>Daily</td>\n",
       "      <td>10-20 hours</td>\n",
       "      <td>Console (PlayStation, Xbox, etc.)</td>\n",
       "      <td>Action/Adventure, First-Person Shooter (FPS), ...</td>\n",
       "      <td>Solo leveling arise</td>\n",
       "      <td>Friends/Family Recommendations</td>\n",
       "      <td>Both</td>\n",
       "      <td>...</td>\n",
       "      <td>1</td>\n",
       "      <td>1</td>\n",
       "      <td>1</td>\n",
       "      <td>1</td>\n",
       "      <td>0</td>\n",
       "      <td>0</td>\n",
       "      <td>1</td>\n",
       "      <td>0</td>\n",
       "      <td>0</td>\n",
       "      <td>0</td>\n",
       "    </tr>\n",
       "    <tr>\n",
       "      <th>497</th>\n",
       "      <td>2024-10-25 16:57:00.000</td>\n",
       "      <td>30</td>\n",
       "      <td>Male</td>\n",
       "      <td>Rarely/Never</td>\n",
       "      <td>More than 20 hours</td>\n",
       "      <td>Console (PlayStation, Xbox, etc.)</td>\n",
       "      <td>Sports</td>\n",
       "      <td>Efootball</td>\n",
       "      <td>Social Media</td>\n",
       "      <td>Both</td>\n",
       "      <td>...</td>\n",
       "      <td>1</td>\n",
       "      <td>1</td>\n",
       "      <td>0</td>\n",
       "      <td>0</td>\n",
       "      <td>0</td>\n",
       "      <td>0</td>\n",
       "      <td>0</td>\n",
       "      <td>0</td>\n",
       "      <td>1</td>\n",
       "      <td>0</td>\n",
       "    </tr>\n",
       "    <tr>\n",
       "      <th>498</th>\n",
       "      <td>2024-10-25 16:58:00.000</td>\n",
       "      <td>19</td>\n",
       "      <td>Male</td>\n",
       "      <td>Daily</td>\n",
       "      <td>More than 20 hours</td>\n",
       "      <td>PC</td>\n",
       "      <td>Action/Adventure, First-Person Shooter (FPS), ...</td>\n",
       "      <td>Call of duty</td>\n",
       "      <td>Social Media, Gaming Forums, Game Reviews/Blog...</td>\n",
       "      <td>Both</td>\n",
       "      <td>...</td>\n",
       "      <td>0</td>\n",
       "      <td>0</td>\n",
       "      <td>1</td>\n",
       "      <td>1</td>\n",
       "      <td>1</td>\n",
       "      <td>0</td>\n",
       "      <td>1</td>\n",
       "      <td>0</td>\n",
       "      <td>0</td>\n",
       "      <td>0</td>\n",
       "    </tr>\n",
       "    <tr>\n",
       "      <th>499</th>\n",
       "      <td>2024-10-25 16:59:00.000</td>\n",
       "      <td>19</td>\n",
       "      <td>Female</td>\n",
       "      <td>Daily</td>\n",
       "      <td>10-20 hours</td>\n",
       "      <td>Console (PlayStation, Xbox, etc.)</td>\n",
       "      <td>First-Person Shooter (FPS), Role-Playing Games...</td>\n",
       "      <td>call of duty</td>\n",
       "      <td>Gaming Forums, YouTube/Streaming platforms (Tw...</td>\n",
       "      <td>Multiplayer</td>\n",
       "      <td>...</td>\n",
       "      <td>1</td>\n",
       "      <td>1</td>\n",
       "      <td>0</td>\n",
       "      <td>1</td>\n",
       "      <td>0</td>\n",
       "      <td>0</td>\n",
       "      <td>1</td>\n",
       "      <td>1</td>\n",
       "      <td>0</td>\n",
       "      <td>1</td>\n",
       "    </tr>\n",
       "  </tbody>\n",
       "</table>\n",
       "<p>500 rows × 28 columns</p>\n",
       "</div>"
      ],
      "text/plain": [
       "                  timestamp  age  gender     frequency      hours_per_week  \\\n",
       "0   2024-10-24 13:09:27.109   18    Male         Daily         10-20 hours   \n",
       "1   2024-10-24 13:09:34.343   19    Male  Rarely/Never                   0   \n",
       "2   2024-10-24 13:23:13.403   19    Male  Rarely/Never  More than 20 hours   \n",
       "3   2024-10-24 13:30:42.445   18  Female  Rarely/Never   Less than 5 hours   \n",
       "4   2024-10-24 13:32:26.815   18  Female         Daily   Less than 5 hours   \n",
       "..                      ...  ...     ...           ...                 ...   \n",
       "495 2024-10-25 16:55:00.000   19    Male  Rarely/Never          5-10 hours   \n",
       "496 2024-10-25 16:56:00.000   16  Female         Daily         10-20 hours   \n",
       "497 2024-10-25 16:57:00.000   30    Male  Rarely/Never  More than 20 hours   \n",
       "498 2024-10-25 16:58:00.000   19    Male         Daily  More than 20 hours   \n",
       "499 2024-10-25 16:59:00.000   19  Female         Daily         10-20 hours   \n",
       "\n",
       "                                device  \\\n",
       "0                               Mobile   \n",
       "1                               Mobile   \n",
       "2    Console (PlayStation, Xbox, etc.)   \n",
       "3                               Mobile   \n",
       "4                           PC, Mobile   \n",
       "..                                 ...   \n",
       "495                                 PC   \n",
       "496  Console (PlayStation, Xbox, etc.)   \n",
       "497  Console (PlayStation, Xbox, etc.)   \n",
       "498                                 PC   \n",
       "499  Console (PlayStation, Xbox, etc.)   \n",
       "\n",
       "                                                genres        favorite_game  \\\n",
       "0                                               Sports            FC MOBILE   \n",
       "1         Puzzle/Strategy, Simulation (e.g., The Sims)               Wukong   \n",
       "2                           First-Person Shooter (FPS)         Call of duty   \n",
       "3                                      Puzzle/Strategy               Subway   \n",
       "4    Action/Adventure, First-Person Shooter (FPS), ...  Solo leveling arise   \n",
       "..                                                 ...                  ...   \n",
       "495                                    Puzzle/Strategy               Subway   \n",
       "496  Action/Adventure, First-Person Shooter (FPS), ...  Solo leveling arise   \n",
       "497                                             Sports            Efootball   \n",
       "498  Action/Adventure, First-Person Shooter (FPS), ...         Call of duty   \n",
       "499  First-Person Shooter (FPS), Role-Playing Games...         call of duty   \n",
       "\n",
       "                                     discovery_methods preference_mode  ...  \\\n",
       "0                          Social Media, Gaming Forums            Both  ...   \n",
       "1                                         Social Media   Single-player  ...   \n",
       "2                                        Gaming Forums     Multiplayer  ...   \n",
       "3                                         Social Media            Both  ...   \n",
       "4                       Friends/Family Recommendations     Multiplayer  ...   \n",
       "..                                                 ...             ...  ...   \n",
       "495                                       Social Media            Both  ...   \n",
       "496                     Friends/Family Recommendations            Both  ...   \n",
       "497                                       Social Media            Both  ...   \n",
       "498  Social Media, Gaming Forums, Game Reviews/Blog...            Both  ...   \n",
       "499  Gaming Forums, YouTube/Streaming platforms (Tw...     Multiplayer  ...   \n",
       "\n",
       "    device_Xbox device_etc.)  Action/Adventure  First-Person Shooter (FPS)  \\\n",
       "0             0            0                 0                           0   \n",
       "1             0            0                 0                           0   \n",
       "2             1            1                 0                           1   \n",
       "3             0            0                 0                           0   \n",
       "4             0            0                 1                           1   \n",
       "..          ...          ...               ...                         ...   \n",
       "495           0            0                 0                           0   \n",
       "496           1            1                 1                           1   \n",
       "497           1            1                 0                           0   \n",
       "498           0            0                 1                           1   \n",
       "499           1            1                 0                           1   \n",
       "\n",
       "     MMO (Massively Multiplayer Online)  Puzzle/Strategy  \\\n",
       "0                                     0                0   \n",
       "1                                     0                1   \n",
       "2                                     0                0   \n",
       "3                                     0                1   \n",
       "4                                     0                0   \n",
       "..                                  ...              ...   \n",
       "495                                   0                1   \n",
       "496                                   0                0   \n",
       "497                                   0                0   \n",
       "498                                   1                0   \n",
       "499                                   0                0   \n",
       "\n",
       "     Role-Playing Games (RPG)  Simulation (e.g.  Sports  The Sims)  \n",
       "0                           0                 0       1          0  \n",
       "1                           0                 1       0          1  \n",
       "2                           0                 0       0          0  \n",
       "3                           0                 0       0          0  \n",
       "4                           1                 0       0          0  \n",
       "..                        ...               ...     ...        ...  \n",
       "495                         0                 0       0          0  \n",
       "496                         1                 0       0          0  \n",
       "497                         0                 0       1          0  \n",
       "498                         1                 0       0          0  \n",
       "499                         1                 1       0          1  \n",
       "\n",
       "[500 rows x 28 columns]"
      ]
     },
     "execution_count": 19,
     "metadata": {},
     "output_type": "execute_result"
    }
   ],
   "source": [
    "df_jogadores.drop(['location'], axis=1)"
   ]
  },
  {
   "cell_type": "code",
   "execution_count": 20,
   "metadata": {
    "id": "ZBVl5tLsKSbw"
   },
   "outputs": [
    {
     "name": "stderr",
     "output_type": "stream",
     "text": [
      "<>:44: SyntaxWarning: invalid escape sequence '\\s'\n",
      "<>:44: SyntaxWarning: invalid escape sequence '\\s'\n",
      "C:\\Users\\Administrador\\AppData\\Local\\Temp\\ipykernel_20908\\579679140.py:44: SyntaxWarning: invalid escape sequence '\\s'\n",
      "  split_col = df_jogadores[col].astype(str).str.split(\",\\s*\")\n"
     ]
    }
   ],
   "source": [
    "from sklearn.preprocessing import MultiLabelBinarizer, MinMaxScaler\n",
    "\n",
    "# Dataset dos jogadores:\n",
    "\n",
    "# Normalizar idade dos jogadores\n",
    "scaler = MinMaxScaler()\n",
    "df_jogadores[\"age_normalized\"] = scaler.fit_transform(df_jogadores[[\"age\"]])\n",
    "\n",
    "# Converter coluna frequência\n",
    "freq_map = {\n",
    "    \"Rarely/Never\": 0,\n",
    "    \"A few times in a month\": 1,\n",
    "    \"A few times a week\": 2,\n",
    "    \"Daily\": 3\n",
    "}\n",
    "df_jogadores[\"frequency_num\"] = df_jogadores[\"frequency\"].map(freq_map)\n",
    "\n",
    "# Converter horas por semana para valor aproximado\n",
    "def parse_hours(h):\n",
    "    h = h.lower()\n",
    "    if \"less than\" in h:\n",
    "        return 3\n",
    "    elif \"5-10\" in h:\n",
    "        return 7\n",
    "    elif \"10-20\" in h:\n",
    "        return 15\n",
    "    elif \"more than 20\" in h:\n",
    "        return 25\n",
    "    elif \"30min\" in h or \"30 min\" in h:\n",
    "        return 0.5\n",
    "    try:\n",
    "        return float(h)\n",
    "    except:\n",
    "        return np.nan\n",
    "\n",
    "categoricas_simples = [\"gender\", \"preference_mode\"]\n",
    "df_onehot = pd.get_dummies(df_jogadores[categoricas_simples], prefix=categoricas_simples)\n",
    "\n",
    "# MultiLabelBinarizer para colunas de múltipla escolha (genres e device já foi binarizado na etapa anterior)\n",
    "multicolunas = [\"discovery_methods\", \"motivation\"]\n",
    "df_multilabel = []\n",
    "\n",
    "for col in multicolunas:\n",
    "    split_col = df_jogadores[col].astype(str).str.split(\",\\s*\")\n",
    "    mlb = MultiLabelBinarizer()\n",
    "    encoded = pd.DataFrame(mlb.fit_transform(split_col), columns=[f\"{col}_{c}\" for c in mlb.classes_])\n",
    "    df_multilabel.append(encoded)\n",
    "\n",
    "# Concatenar tudo ao DataFrame original\n",
    "df_jogadores_final = pd.concat(\n",
    "    [df_jogadores,\n",
    "     df_onehot] + df_multilabel,\n",
    "    axis=1)\n"
   ]
  },
  {
   "cell_type": "code",
   "execution_count": 21,
   "metadata": {
    "id": "jtHD9iiuQt6M"
   },
   "outputs": [],
   "source": [
    "df_jogadores.columns[df_jogadores.columns.duplicated()].tolist()\n",
    "\n",
    "# Remover duplicatas (se por acaso tem)\n",
    "df_jogadores = df_jogadores.loc[:, ~df_jogadores.columns.duplicated()]\n"
   ]
  },
  {
   "cell_type": "code",
   "execution_count": 22,
   "metadata": {
    "id": "7g1Yl_pkSxWV"
   },
   "outputs": [],
   "source": [
    "# Remover colunas categóricas originais (object)\n",
    "colunas_object = df_jogadores.select_dtypes(include='object').columns.tolist()\n",
    "df_jogadores_final.drop(columns=colunas_object, inplace=True)"
   ]
  },
  {
   "cell_type": "code",
   "execution_count": 23,
   "metadata": {},
   "outputs": [],
   "source": [
    "df_jogadores_final.drop(columns=[\"timestamp\"], inplace=True)"
   ]
  },
  {
   "cell_type": "code",
   "execution_count": 24,
   "metadata": {
    "colab": {
     "base_uri": "https://localhost:8080/"
    },
    "id": "-1TnMxT3u6y-",
    "outputId": "b430cc9e-ad06-4de2-8ea7-dfdbd63f4680"
   },
   "outputs": [
    {
     "name": "stdout",
     "output_type": "stream",
     "text": [
      "<class 'pandas.core.frame.DataFrame'>\n",
      "RangeIndex: 500 entries, 0 to 499\n",
      "Data columns (total 41 columns):\n",
      " #   Column                                                 Non-Null Count  Dtype  \n",
      "---  ------                                                 --------------  -----  \n",
      " 0   age                                                    500 non-null    int64  \n",
      " 1   device_Console                                         500 non-null    int64  \n",
      " 2   device_Console (PlayStation                            500 non-null    int64  \n",
      " 3   device_Handheld devices (Nintendo Switch               500 non-null    int64  \n",
      " 4   device_Mobile                                          500 non-null    int64  \n",
      " 5   device_PC                                              500 non-null    int64  \n",
      " 6   device_Tablet                                          500 non-null    int64  \n",
      " 7   device_Xbox                                            500 non-null    int64  \n",
      " 8   device_etc.)                                           500 non-null    int64  \n",
      " 9   Action/Adventure                                       500 non-null    int64  \n",
      " 10  First-Person Shooter (FPS)                             500 non-null    int64  \n",
      " 11  MMO (Massively Multiplayer Online)                     500 non-null    int64  \n",
      " 12  Puzzle/Strategy                                        500 non-null    int64  \n",
      " 13  Role-Playing Games (RPG)                               500 non-null    int64  \n",
      " 14  Simulation (e.g.                                       500 non-null    int64  \n",
      " 15  Sports                                                 500 non-null    int64  \n",
      " 16  The Sims)                                              500 non-null    int64  \n",
      " 17  age_normalized                                         500 non-null    float64\n",
      " 18  frequency_num                                          420 non-null    float64\n",
      " 19  gender_Female                                          500 non-null    bool   \n",
      " 20  gender_Male                                            500 non-null    bool   \n",
      " 21  gender_male                                            500 non-null    bool   \n",
      " 22  preference_mode_Both                                   500 non-null    bool   \n",
      " 23  preference_mode_Multiplayer                            500 non-null    bool   \n",
      " 24  preference_mode_Single-player                          500 non-null    bool   \n",
      " 25  discovery_methods_Friends/Family Recommendations       500 non-null    int64  \n",
      " 26  discovery_methods_Game Reviews/Blogs                   500 non-null    int64  \n",
      " 27  discovery_methods_Gaming Forums                        500 non-null    int64  \n",
      " 28  discovery_methods_I search myself from playstore       500 non-null    int64  \n",
      " 29  discovery_methods_Social Media                         500 non-null    int64  \n",
      " 30  discovery_methods_YouTube/Streaming platforms (Twitch  500 non-null    int64  \n",
      " 31  discovery_methods_etc.)                                500 non-null    int64  \n",
      " 32  discovery_methods_my own ways!!!                       500 non-null    int64  \n",
      " 33  motivation_For fun/entertainment                       500 non-null    int64  \n",
      " 34  motivation_If no other better work                     500 non-null    int64  \n",
      " 35  motivation_To improve skills/competition               500 non-null    int64  \n",
      " 36  motivation_To relieve stress                           500 non-null    int64  \n",
      " 37  motivation_To socialize                                500 non-null    int64  \n",
      " 38  motivation_To socialize with friends                   500 non-null    int64  \n",
      " 39  motivation_etc                                         500 non-null    int64  \n",
      " 40  motivation_learning how it's designed                  500 non-null    int64  \n",
      "dtypes: bool(6), float64(2), int64(33)\n",
      "memory usage: 139.8 KB\n"
     ]
    }
   ],
   "source": [
    "df_jogadores_final.info()"
   ]
  },
  {
   "cell_type": "code",
   "execution_count": 25,
   "metadata": {
    "colab": {
     "base_uri": "https://localhost:8080/",
     "height": 209
    },
    "id": "bxCaMxmJWFqA",
    "outputId": "44c6df1d-b0ec-4ef9-e79f-25222bb4b771"
   },
   "outputs": [
    {
     "data": {
      "text/plain": [
       "appid          0\n",
       "name           0\n",
       "genres        36\n",
       "categories    44\n",
       "dtype: int64"
      ]
     },
     "execution_count": 25,
     "metadata": {},
     "output_type": "execute_result"
    }
   ],
   "source": [
    "df_jogos.isnull().sum()"
   ]
  },
  {
   "cell_type": "markdown",
   "metadata": {
    "id": "1fh-z0C9caTc"
   },
   "source": [
    "O dataset dos jogos, apresenta valores nulos, pelo que será necessário tratá-los"
   ]
  },
  {
   "cell_type": "code",
   "execution_count": 26,
   "metadata": {
    "id": "x23jYfJKcZlx"
   },
   "outputs": [
    {
     "name": "stderr",
     "output_type": "stream",
     "text": [
      "<>:5: SyntaxWarning: invalid escape sequence '\\s'\n",
      "<>:6: SyntaxWarning: invalid escape sequence '\\s'\n",
      "<>:5: SyntaxWarning: invalid escape sequence '\\s'\n",
      "<>:6: SyntaxWarning: invalid escape sequence '\\s'\n",
      "C:\\Users\\Administrador\\AppData\\Local\\Temp\\ipykernel_20908\\1747782104.py:5: SyntaxWarning: invalid escape sequence '\\s'\n",
      "  genres_split = df_jogos[\"genres\"].str.split(\",\\s*\")\n",
      "C:\\Users\\Administrador\\AppData\\Local\\Temp\\ipykernel_20908\\1747782104.py:6: SyntaxWarning: invalid escape sequence '\\s'\n",
      "  categories_split = df_jogos[\"categories\"].str.split(\",\\s*\")\n"
     ]
    }
   ],
   "source": [
    "# Remover linhas sem gênero ou categoria\n",
    "df_jogos = df_jogos.dropna(subset=[\"genres\", \"categories\"])\n",
    "\n",
    "# Separar múltiplos gêneros e categorias\n",
    "genres_split = df_jogos[\"genres\"].str.split(\",\\s*\")\n",
    "categories_split = df_jogos[\"categories\"].str.split(\",\\s*\")\n",
    "\n",
    "# Codificar gêneros e categorias\n",
    "mlb_genres = MultiLabelBinarizer()\n",
    "genres_encoded = pd.DataFrame(mlb_genres.fit_transform(genres_split),\n",
    "                              columns=[f\"genre_{g}\" for g in mlb_genres.classes_])\n",
    "\n",
    "mlb_cats = MultiLabelBinarizer()\n",
    "cats_encoded = pd.DataFrame(mlb_cats.fit_transform(categories_split),\n",
    "                            columns=[f\"cat_{c}\" for c in mlb_cats.classes_])\n",
    "\n",
    "# Concatenar os vetores ao DataFrame\n",
    "df_jogos = pd.concat([df_jogos.reset_index(drop=True),\n",
    "                      genres_encoded.reset_index(drop=True),\n",
    "                      cats_encoded.reset_index(drop=True)], axis=1)"
   ]
  },
  {
   "cell_type": "code",
   "execution_count": 27,
   "metadata": {
    "colab": {
     "base_uri": "https://localhost:8080/"
    },
    "id": "Q1a7W_cDgcUJ",
    "outputId": "95a0c15b-f767-4c19-987e-51c17686aa1b"
   },
   "outputs": [
    {
     "name": "stdout",
     "output_type": "stream",
     "text": [
      "<class 'pandas.core.frame.DataFrame'>\n",
      "RangeIndex: 1152 entries, 0 to 1151\n",
      "Data columns (total 97 columns):\n",
      " #   Column                              Non-Null Count  Dtype \n",
      "---  ------                              --------------  ----- \n",
      " 0   appid                               1152 non-null   int64 \n",
      " 1   name                                1152 non-null   object\n",
      " 2   genres                              1152 non-null   object\n",
      " 3   categories                          1152 non-null   object\n",
      " 4   genre_Action                        1152 non-null   int64 \n",
      " 5   genre_Adventure                     1152 non-null   int64 \n",
      " 6   genre_Animation & Modeling          1152 non-null   int64 \n",
      " 7   genre_Audio Production              1152 non-null   int64 \n",
      " 8   genre_Casual                        1152 non-null   int64 \n",
      " 9   genre_Design & Illustration         1152 non-null   int64 \n",
      " 10  genre_Early Access                  1152 non-null   int64 \n",
      " 11  genre_Education                     1152 non-null   int64 \n",
      " 12  genre_Free To Play                  1152 non-null   int64 \n",
      " 13  genre_Game Development              1152 non-null   int64 \n",
      " 14  genre_Gore                          1152 non-null   int64 \n",
      " 15  genre_Indie                         1152 non-null   int64 \n",
      " 16  genre_Massively Multiplayer         1152 non-null   int64 \n",
      " 17  genre_Nudity                        1152 non-null   int64 \n",
      " 18  genre_RPG                           1152 non-null   int64 \n",
      " 19  genre_Racing                        1152 non-null   int64 \n",
      " 20  genre_Simuladores                   1152 non-null   int64 \n",
      " 21  genre_Simulation                    1152 non-null   int64 \n",
      " 22  genre_Software Training             1152 non-null   int64 \n",
      " 23  genre_Sports                        1152 non-null   int64 \n",
      " 24  genre_Strategy                      1152 non-null   int64 \n",
      " 25  genre_Utilities                     1152 non-null   int64 \n",
      " 26  genre_Video Production              1152 non-null   int64 \n",
      " 27  genre_Violent                       1152 non-null   int64 \n",
      " 28  cat_Adjustable Difficulty           1152 non-null   int64 \n",
      " 29  cat_Adjustable Text Size            1152 non-null   int64 \n",
      " 30  cat_Camera Comfort                  1152 non-null   int64 \n",
      " 31  cat_Captions available              1152 non-null   int64 \n",
      " 32  cat_Chat Speech-to-text             1152 non-null   int64 \n",
      " 33  cat_Co-op                           1152 non-null   int64 \n",
      " 34  cat_Color Alternatives              1152 non-null   int64 \n",
      " 35  cat_Commentary available            1152 non-null   int64 \n",
      " 36  cat_Con sist. antitrampas de Valve  1152 non-null   int64 \n",
      " 37  cat_Cooperativo                     1152 non-null   int64 \n",
      " 38  cat_Cooperativo en LAN              1152 non-null   int64 \n",
      " 39  cat_Cooperativo en línea            1152 non-null   int64 \n",
      " 40  cat_Cromos de Steam                 1152 non-null   int64 \n",
      " 41  cat_Cross-Platform Multiplayer      1152 non-null   int64 \n",
      " 42  cat_Custom Volume Controls          1152 non-null   int64 \n",
      " 43  cat_Family Sharing                  1152 non-null   int64 \n",
      " 44  cat_Full controller support         1152 non-null   int64 \n",
      " 45  cat_HDR available                   1152 non-null   int64 \n",
      " 46  cat_In-App Purchases                1152 non-null   int64 \n",
      " 47  cat_Includes Source SDK             1152 non-null   int64 \n",
      " 48  cat_Includes level editor           1152 non-null   int64 \n",
      " 49  cat_Incluye editor de niveles       1152 non-null   int64 \n",
      " 50  cat_Incluye el SDK de Source        1152 non-null   int64 \n",
      " 51  cat_JcJ                             1152 non-null   int64 \n",
      " 52  cat_JcJ en LAN                      1152 non-null   int64 \n",
      " 53  cat_JcJ en línea                    1152 non-null   int64 \n",
      " 54  cat_Keyboard Only Option            1152 non-null   int64 \n",
      " 55  cat_LAN Co-op                       1152 non-null   int64 \n",
      " 56  cat_LAN PvP                         1152 non-null   int64 \n",
      " 57  cat_Logros de Steam                 1152 non-null   int64 \n",
      " 58  cat_MMO                             1152 non-null   int64 \n",
      " 59  cat_Mouse Only Option               1152 non-null   int64 \n",
      " 60  cat_Multi-player                    1152 non-null   int64 \n",
      " 61  cat_Multijugador                    1152 non-null   int64 \n",
      " 62  cat_Multijugador multiplataforma    1152 non-null   int64 \n",
      " 63  cat_Online Co-op                    1152 non-null   int64 \n",
      " 64  cat_Online PvP                      1152 non-null   int64 \n",
      " 65  cat_Partial Controller Support      1152 non-null   int64 \n",
      " 66  cat_Playable without Timed Input    1152 non-null   int64 \n",
      " 67  cat_Préstamo familiar               1152 non-null   int64 \n",
      " 68  cat_PvP                             1152 non-null   int64 \n",
      " 69  cat_Remote Play Together            1152 non-null   int64 \n",
      " 70  cat_Remote Play on Phone            1152 non-null   int64 \n",
      " 71  cat_Remote Play on TV               1152 non-null   int64 \n",
      " 72  cat_Remote Play on Tablet           1152 non-null   int64 \n",
      " 73  cat_Remote Play en tableta          1152 non-null   int64 \n",
      " 74  cat_Save Anytime                    1152 non-null   int64 \n",
      " 75  cat_Shared/Split Screen             1152 non-null   int64 \n",
      " 76  cat_Shared/Split Screen Co-op       1152 non-null   int64 \n",
      " 77  cat_Shared/Split Screen PvP         1152 non-null   int64 \n",
      " 78  cat_Single-player                   1152 non-null   int64 \n",
      " 79  cat_Stats                           1152 non-null   int64 \n",
      " 80  cat_Steam Achievements              1152 non-null   int64 \n",
      " 81  cat_Steam Cloud                     1152 non-null   int64 \n",
      " 82  cat_Steam Leaderboards              1152 non-null   int64 \n",
      " 83  cat_Steam Timeline                  1152 non-null   int64 \n",
      " 84  cat_Steam Trading Cards             1152 non-null   int64 \n",
      " 85  cat_Steam Workshop                  1152 non-null   int64 \n",
      " 86  cat_SteamVR Collectibles            1152 non-null   int64 \n",
      " 87  cat_Stereo Sound                    1152 non-null   int64 \n",
      " 88  cat_Subtitle Options                1152 non-null   int64 \n",
      " 89  cat_Subtítulos disponibles          1152 non-null   int64 \n",
      " 90  cat_Surround Sound                  1152 non-null   int64 \n",
      " 91  cat_Touch Only Option               1152 non-null   int64 \n",
      " 92  cat_Tracked Controller Support      1152 non-null   int64 \n",
      " 93  cat_Un jugador                      1152 non-null   int64 \n",
      " 94  cat_VR Only                         1152 non-null   int64 \n",
      " 95  cat_VR Supported                    1152 non-null   int64 \n",
      " 96  cat_Valve Anti-Cheat enabled        1152 non-null   int64 \n",
      "dtypes: int64(94), object(3)\n",
      "memory usage: 873.1+ KB\n"
     ]
    }
   ],
   "source": [
    "df_jogos.info()"
   ]
  },
  {
   "cell_type": "markdown",
   "metadata": {
    "id": "eL-bDEa_13J2"
   },
   "source": [
    "**4. Modelação - Modeling**"
   ]
  },
  {
   "cell_type": "code",
   "execution_count": 28,
   "metadata": {},
   "outputs": [
    {
     "name": "stdout",
     "output_type": "stream",
     "text": [
      "Requirement already satisfied: scikit-learn in c:\\python\\lib\\site-packages (1.7.0)\n",
      "Requirement already satisfied: pandas in c:\\python\\lib\\site-packages (2.3.0)\n",
      "Requirement already satisfied: numpy in c:\\python\\lib\\site-packages (2.3.1)\n",
      "Requirement already satisfied: scipy>=1.8.0 in c:\\python\\lib\\site-packages (from scikit-learn) (1.16.0)\n",
      "Requirement already satisfied: joblib>=1.2.0 in c:\\python\\lib\\site-packages (from scikit-learn) (1.5.1)\n",
      "Requirement already satisfied: threadpoolctl>=3.1.0 in c:\\python\\lib\\site-packages (from scikit-learn) (3.6.0)\n",
      "Requirement already satisfied: python-dateutil>=2.8.2 in c:\\users\\administrador\\appdata\\roaming\\python\\python313\\site-packages (from pandas) (2.9.0.post0)\n",
      "Requirement already satisfied: pytz>=2020.1 in c:\\python\\lib\\site-packages (from pandas) (2025.2)\n",
      "Requirement already satisfied: tzdata>=2022.7 in c:\\python\\lib\\site-packages (from pandas) (2025.2)\n",
      "Requirement already satisfied: six>=1.5 in c:\\users\\administrador\\appdata\\roaming\\python\\python313\\site-packages (from python-dateutil>=2.8.2->pandas) (1.17.0)\n",
      "Note: you may need to restart the kernel to use updated packages.\n"
     ]
    },
    {
     "name": "stderr",
     "output_type": "stream",
     "text": [
      "\n",
      "[notice] A new release of pip is available: 25.0.1 -> 25.1.1\n",
      "[notice] To update, run: python.exe -m pip install --upgrade pip\n"
     ]
    }
   ],
   "source": [
    "pip install scikit-learn pandas numpy"
   ]
  },
  {
   "cell_type": "code",
   "execution_count": 29,
   "metadata": {},
   "outputs": [
    {
     "name": "stdout",
     "output_type": "stream",
     "text": [
      "Index(['age', 'device_Console', 'device_Console (PlayStation',\n",
      "       'device_Handheld devices (Nintendo Switch', 'device_Mobile',\n",
      "       'device_PC', 'device_Tablet', 'device_Xbox', 'device_etc.)',\n",
      "       'Action/Adventure', 'First-Person Shooter (FPS)',\n",
      "       'MMO (Massively Multiplayer Online)', 'Puzzle/Strategy',\n",
      "       'Role-Playing Games (RPG)', 'Simulation (e.g.', 'Sports', 'The Sims)',\n",
      "       'age_normalized', 'frequency_num', 'gender_Female', 'gender_Male',\n",
      "       'gender_male', 'preference_mode_Both', 'preference_mode_Multiplayer',\n",
      "       'preference_mode_Single-player',\n",
      "       'discovery_methods_Friends/Family Recommendations',\n",
      "       'discovery_methods_Game Reviews/Blogs',\n",
      "       'discovery_methods_Gaming Forums',\n",
      "       'discovery_methods_I search myself from playstore',\n",
      "       'discovery_methods_Social Media',\n",
      "       'discovery_methods_YouTube/Streaming platforms (Twitch',\n",
      "       'discovery_methods_etc.)', 'discovery_methods_my own ways!!!',\n",
      "       'motivation_For fun/entertainment',\n",
      "       'motivation_If no other better work',\n",
      "       'motivation_To improve skills/competition',\n",
      "       'motivation_To relieve stress', 'motivation_To socialize',\n",
      "       'motivation_To socialize with friends', 'motivation_etc',\n",
      "       'motivation_learning how it's designed'],\n",
      "      dtype='object')\n"
     ]
    }
   ],
   "source": [
    "print(df_jogadores_final.columns)\n"
   ]
  },
  {
   "cell_type": "code",
   "execution_count": 30,
   "metadata": {},
   "outputs": [],
   "source": [
    "import pandas as pd\n",
    "\n",
    "# Depois de tratar os dados...\n",
    "df_jogadores_final.to_csv(\"jogadores_tratado.csv\", index=False)\n",
    "df_jogos.to_json(\"jogos_tratado.json\", orient=\"records\")"
   ]
  },
  {
   "cell_type": "code",
   "execution_count": null,
   "metadata": {
    "id": "Bt_ut__i72in"
   },
   "outputs": [
    {
     "data": {
      "text/plain": [
       "['genero_cols.pkl']"
      ]
     },
     "execution_count": 34,
     "metadata": {},
     "output_type": "execute_result"
    }
   ],
   "source": [
    "import pandas as pd\n",
    "import numpy as np\n",
    "import joblib\n",
    "from sklearn.ensemble import RandomForestClassifier\n",
    "from sklearn.multioutput import MultiOutputClassifier\n",
    "from sklearn.model_selection import train_test_split\n",
    "\n",
    "genero_cols = [\n",
    "    'Action/Adventure', 'First-Person Shooter (FPS)', 'MMO (Massively Multiplayer Online)',\n",
    "    'Puzzle/Strategy', 'Role-Playing Games (RPG)', 'Simulation (e.g.', 'Sports', 'The Sims)'\n",
    "]\n",
    "\n",
    "X = df_jogadores_final.drop(columns=genero_cols)\n",
    "y = df_jogadores_final[genero_cols]\n",
    "\n",
    "# Dividir dados em treino e teste\n",
    "X_train, X_test, y_train, y_test = train_test_split(X, y, test_size=0.2, random_state=42)\n",
    "\n",
    "# Treinar no treino\n",
    "modelo = MultiOutputClassifier(RandomForestClassifier(n_estimators=100, random_state=42))\n",
    "modelo.fit(X_train, y_train)\n",
    "\n",
    "# Salvar o modelo e as colunas\n",
    "joblib.dump(modelo, \"modelo_recomendador.pkl\")\n",
    "joblib.dump(X.columns.tolist(), \"colunas_modelo.pkl\")\n",
    "joblib.dump(y.columns.tolist(), \"genero_cols.pkl\")\n"
   ]
  },
  {
   "cell_type": "code",
   "execution_count": 35,
   "metadata": {},
   "outputs": [
    {
     "name": "stdout",
     "output_type": "stream",
     "text": [
      "33\n",
      "['age', 'device_Console', 'device_Console (PlayStation', 'device_Handheld devices (Nintendo Switch', 'device_Mobile', 'device_PC', 'device_Tablet', 'device_Xbox', 'device_etc.)', 'age_normalized', 'frequency_num', 'gender_Female', 'gender_Male', 'gender_male', 'preference_mode_Both', 'preference_mode_Multiplayer', 'preference_mode_Single-player', 'discovery_methods_Friends/Family Recommendations', 'discovery_methods_Game Reviews/Blogs', 'discovery_methods_Gaming Forums', 'discovery_methods_I search myself from playstore', 'discovery_methods_Social Media', 'discovery_methods_YouTube/Streaming platforms (Twitch', 'discovery_methods_etc.)', 'discovery_methods_my own ways!!!', 'motivation_For fun/entertainment', 'motivation_If no other better work', 'motivation_To improve skills/competition', 'motivation_To relieve stress', 'motivation_To socialize', 'motivation_To socialize with friends', 'motivation_etc', \"motivation_learning how it's designed\"]\n"
     ]
    }
   ],
   "source": [
    "import joblib\n",
    "colunas = joblib.load(\"colunas_modelo.pkl\")\n",
    "print(len(colunas))\n",
    "print(colunas)"
   ]
  },
  {
   "cell_type": "markdown",
   "metadata": {
    "id": "ii9XDdTR1-Ib"
   },
   "source": [
    "**5. Avaliação - Evaluation**"
   ]
  },
  {
   "cell_type": "code",
   "execution_count": 38,
   "id": "6fa5718f",
   "metadata": {},
   "outputs": [
    {
     "name": "stdout",
     "output_type": "stream",
     "text": [
      "=== Accuracy por Gênero ===\n",
      "Action/Adventure: 0.8800\n",
      "First-Person Shooter (FPS): 0.8700\n",
      "MMO (Massively Multiplayer Online): 0.8700\n",
      "Puzzle/Strategy: 0.9200\n",
      "Role-Playing Games (RPG): 0.9700\n",
      "Simulation (e.g.: 0.9600\n",
      "Sports: 0.8800\n",
      "The Sims): 0.9600\n",
      "\n",
      "Accuracy Média: 0.9137\n",
      "\n",
      "=== Classification Report por Gênero ===\n",
      "\n",
      "--- Action/Adventure ---\n",
      "              precision    recall  f1-score   support\n",
      "\n",
      "           0       0.83      0.83      0.83        36\n",
      "           1       0.91      0.91      0.91        64\n",
      "\n",
      "    accuracy                           0.88       100\n",
      "   macro avg       0.87      0.87      0.87       100\n",
      "weighted avg       0.88      0.88      0.88       100\n",
      "\n",
      "\n",
      "--- First-Person Shooter (FPS) ---\n",
      "              precision    recall  f1-score   support\n",
      "\n",
      "           0       0.84      0.94      0.89        54\n",
      "           1       0.92      0.78      0.85        46\n",
      "\n",
      "    accuracy                           0.87       100\n",
      "   macro avg       0.88      0.86      0.87       100\n",
      "weighted avg       0.88      0.87      0.87       100\n",
      "\n",
      "\n",
      "--- MMO (Massively Multiplayer Online) ---\n",
      "              precision    recall  f1-score   support\n",
      "\n",
      "           0       0.83      0.98      0.90        60\n",
      "           1       0.97      0.70      0.81        40\n",
      "\n",
      "    accuracy                           0.87       100\n",
      "   macro avg       0.90      0.84      0.86       100\n",
      "weighted avg       0.88      0.87      0.87       100\n",
      "\n",
      "\n",
      "--- Puzzle/Strategy ---\n",
      "              precision    recall  f1-score   support\n",
      "\n",
      "           0       0.94      0.96      0.95        77\n",
      "           1       0.86      0.78      0.82        23\n",
      "\n",
      "    accuracy                           0.92       100\n",
      "   macro avg       0.90      0.87      0.88       100\n",
      "weighted avg       0.92      0.92      0.92       100\n",
      "\n",
      "\n",
      "--- Role-Playing Games (RPG) ---\n",
      "              precision    recall  f1-score   support\n",
      "\n",
      "           0       0.96      1.00      0.98        75\n",
      "           1       1.00      0.88      0.94        25\n",
      "\n",
      "    accuracy                           0.97       100\n",
      "   macro avg       0.98      0.94      0.96       100\n",
      "weighted avg       0.97      0.97      0.97       100\n",
      "\n",
      "\n",
      "--- Simulation (e.g. ---\n",
      "              precision    recall  f1-score   support\n",
      "\n",
      "           0       0.96      1.00      0.98        86\n",
      "           1       1.00      0.71      0.83        14\n",
      "\n",
      "    accuracy                           0.96       100\n",
      "   macro avg       0.98      0.86      0.91       100\n",
      "weighted avg       0.96      0.96      0.96       100\n",
      "\n",
      "\n",
      "--- Sports ---\n",
      "              precision    recall  f1-score   support\n",
      "\n",
      "           0       0.88      0.97      0.93        77\n",
      "           1       0.87      0.57      0.68        23\n",
      "\n",
      "    accuracy                           0.88       100\n",
      "   macro avg       0.87      0.77      0.81       100\n",
      "weighted avg       0.88      0.88      0.87       100\n",
      "\n",
      "\n",
      "--- The Sims) ---\n",
      "              precision    recall  f1-score   support\n",
      "\n",
      "           0       0.96      1.00      0.98        86\n",
      "           1       1.00      0.71      0.83        14\n",
      "\n",
      "    accuracy                           0.96       100\n",
      "   macro avg       0.98      0.86      0.91       100\n",
      "weighted avg       0.96      0.96      0.96       100\n",
      "\n",
      "\n",
      "=== Hamming Loss (quanto menor, melhor): 0.0862\n",
      "\n",
      "=== Subset Accuracy (todos os gêneros corretos): 0.6000\n",
      "\n",
      "ROC AUC (micro): 0.9565\n",
      "ROC AUC (macro): 0.9472\n"
     ]
    }
   ],
   "source": [
    "from sklearn.metrics import classification_report, accuracy_score, hamming_loss, roc_auc_score\n",
    "import numpy as np\n",
    "\n",
    "# === Previsão ===\n",
    "y_pred = modelo.predict(X_test)\n",
    "\n",
    "# 1. Accuracy por rótulo (coluna)\n",
    "accuracies = [accuracy_score(y_test.iloc[:, i], y_pred[:, i]) for i in range(y_test.shape[1])]\n",
    "print(\"=== Accuracy por Gênero ===\")\n",
    "for i, col in enumerate(genero_cols):\n",
    "    print(f\"{col}: {accuracies[i]:.4f}\")\n",
    "print(f\"\\nAccuracy Média: {np.mean(accuracies):.4f}\\n\")\n",
    "\n",
    "# 2. Classification Report por coluna\n",
    "print(\"=== Classification Report por Gênero ===\")\n",
    "for i, col in enumerate(genero_cols):\n",
    "    print(f\"\\n--- {col} ---\")\n",
    "    print(classification_report(y_test.iloc[:, i], y_pred[:, i]))\n",
    "\n",
    "# 3. Hamming Loss\n",
    "hamming = hamming_loss(y_test, y_pred)\n",
    "print(f\"\\n=== Hamming Loss (quanto menor, melhor): {hamming:.4f}\")\n",
    "\n",
    "# 4. Subset Accuracy\n",
    "subset_acc = accuracy_score(y_test.values.tolist(), y_pred.tolist())\n",
    "print(f\"\\n=== Subset Accuracy (todos os gêneros corretos): {subset_acc:.4f}\")\n",
    "\n",
    "# 5. (Opcional) ROC AUC Score micro/macro\n",
    "try:\n",
    "    y_pred_prob = modelo.predict_proba(X_test)\n",
    "    y_score = np.array([prob[:, 1] for prob in y_pred_prob]).T\n",
    "    roc_auc_micro = roc_auc_score(y_test, y_score, average='micro')\n",
    "    roc_auc_macro = roc_auc_score(y_test, y_score, average='macro')\n",
    "    print(f\"\\nROC AUC (micro): {roc_auc_micro:.4f}\")\n",
    "    print(f\"ROC AUC (macro): {roc_auc_macro:.4f}\")\n",
    "except Exception as e:\n",
    "    print(\"\\nNão foi possível calcular ROC AUC (possivelmente por dados desbalanceados ou valores únicos).\")\n",
    "    print(f\"Erro: {e}\")\n"
   ]
  }
 ],
 "metadata": {
  "colab": {
   "provenance": []
  },
  "kernelspec": {
   "display_name": "Python 3",
   "name": "python3"
  },
  "language_info": {
   "codemirror_mode": {
    "name": "ipython",
    "version": 3
   },
   "file_extension": ".py",
   "mimetype": "text/x-python",
   "name": "python",
   "nbconvert_exporter": "python",
   "pygments_lexer": "ipython3",
   "version": "3.13.3"
  }
 },
 "nbformat": 4,
 "nbformat_minor": 0
}
